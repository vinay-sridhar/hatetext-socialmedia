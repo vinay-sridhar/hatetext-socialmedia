{
  "nbformat": 4,
  "nbformat_minor": 0,
  "metadata": {
    "colab": {
      "provenance": [],
      "gpuType": "T4"
    },
    "kernelspec": {
      "name": "python3",
      "display_name": "Python 3"
    },
    "language_info": {
      "name": "python"
    },
    "accelerator": "GPU"
  },
  "cells": [
    {
      "cell_type": "code",
      "source": [
        "pip install comet_ml"
      ],
      "metadata": {
        "id": "JPWVR93AiF_k"
      },
      "execution_count": null,
      "outputs": []
    },
    {
      "cell_type": "code",
      "source": [
        "from comet_ml import Experiment\n",
        "from comet_ml.integration.pytorch import log_model\n",
        "\n",
        "experiment = Experiment(\n",
        "  api_key=\"api key\",\n",
        "  project_name=\"project-name\",\n",
        "  workspace=\"workspace-name\",\n",
        "  log_graph=True, # Can be True or False.\n",
        "  auto_metric_logging=True, # Can be True or False\n",
        ")"
      ],
      "metadata": {
        "colab": {
          "base_uri": "https://localhost:8080/"
        },
        "id": "IJzB1IpB7Y63",
        "outputId": "58ff8715-5e02-4646-f8cf-1515d3685742"
      },
      "execution_count": 1,
      "outputs": [
        {
          "output_type": "stream",
          "name": "stderr",
          "text": [
            "\u001b[1;38;5;214mCOMET WARNING:\u001b[0m As you are running in a Jupyter environment, you will need to call `experiment.end()` when finished to ensure all metrics and code are logged before exiting.\n",
            "\u001b[1;38;5;39mCOMET INFO:\u001b[0m Couldn't find a Git repository in '/content' nor in any parent directory. Set `COMET_GIT_DIRECTORY` if your Git Repository is elsewhere.\n",
            "\u001b[1;38;5;39mCOMET INFO:\u001b[0m Experiment is live on comet.com https://www.comet.com/swaroop/ire-project/9e2a3f5bc85f4d728d71258df2c5d38c\n",
            "\n"
          ]
        }
      ]
    },
    {
      "cell_type": "code",
      "source": [
        "experiment.set_name(\"HIP_distilled_roberta_bilstm-v1\")"
      ],
      "metadata": {
        "id": "2j80Arfd7nUM"
      },
      "execution_count": 3,
      "outputs": []
    },
    {
      "cell_type": "code",
      "source": [
        "%pip install transformers\n",
        "%pip install numpy\n",
        "%pip install tensorflow\n",
        "%pip install scikit-learn\n",
        "%pip install pandas"
      ],
      "metadata": {
        "id": "RRoqDYiQiI6w"
      },
      "execution_count": null,
      "outputs": []
    },
    {
      "cell_type": "code",
      "source": [
        "from transformers import TFRobertaModel, RobertaConfig, RobertaTokenizer\n",
        "import tensorflow as tf\n",
        "from tqdm import tqdm\n",
        "import numpy as np\n",
        "import os\n",
        "import random\n",
        "import numpy\n",
        "import pandas as pd\n",
        "from sklearn.model_selection import train_test_split\n",
        "import pickle\n",
        "import random\n",
        "import sys\n",
        "import math\n",
        "from scipy import stats\n",
        "from scipy.spatial import distance\n",
        "import random\n",
        "import os\n",
        "\n",
        "\n",
        "BERT_MODEL = \"roberta-base\"  # Specify the RoBERTa model\n",
        "MAX_LENGTH = 128\n",
        "TEST_SIZE = 0.15\n",
        "SEED = 42\n",
        "\n",
        "USE_ATT = True\n",
        "\n",
        "BERT_DROPOUT = 0.2\n",
        "LSTM_UNITS = 512\n",
        "DENSE_UNITS = 50\n",
        "LSTM_DROPOUT = 0.1\n",
        "DENSE_DROPOUT = 0.2\n",
        "EPOCHS = 10 #(Default 10)\n",
        "BATCH_SIZE = 32\n",
        "\n",
        "def tokenize(sentences, tokenizer):\n",
        "    input_ids, input_masks = [], []\n",
        "    for sentence in tqdm(sentences):\n",
        "        inputs = tokenizer.encode_plus(sentence,\n",
        "                                       add_special_tokens=True,\n",
        "                                       max_length=MAX_LENGTH,\n",
        "                                       pad_to_max_length=True,\n",
        "                                       return_attention_mask=True,\n",
        "                                       return_token_type_ids=False)  # Roberta doesn't use token_type_ids\n",
        "        input_ids.append(inputs['input_ids'])\n",
        "        input_masks.append(inputs['attention_mask'])\n",
        "\n",
        "    return (np.asarray(input_ids, dtype='int32'),\n",
        "            np.asarray(input_masks, dtype='int32'))\n",
        "\n",
        "    ## Define base Roberta configs\n",
        "# config = RobertaConfig(dropout=BERT_DROPOUT,\n",
        "#                        attention_dropout=BERT_DROPOUT,\n",
        "#                        output_attentions=True)\n",
        "\n",
        "config = RobertaConfig.from_pretrained(BERT_MODEL,\n",
        "                                       output_hidden_states=False,\n",
        "                                       attention_probs_dropout_prob =BERT_DROPOUT,\n",
        "                                       output_attentions = True)\n",
        "config.output_hidden_states = False\n",
        "transformer_model = TFRobertaModel.from_pretrained(BERT_MODEL, config=config)\n",
        "\n",
        "# Freeze the pre-trained layers for fine-tuning\n",
        "for layer in transformer_model.layers[:3]:\n",
        "    layer.trainable = False\n",
        "\n",
        "# Defining tokenizer\n",
        "tokenizer = RobertaTokenizer.from_pretrained(BERT_MODEL,\n",
        "                                             add_special_tokens=True,\n",
        "                                             max_length=MAX_LENGTH,\n",
        "                                             pad_to_max_length=True)\n",
        "\n",
        "\n",
        "\n",
        "\n"
      ],
      "metadata": {
        "colab": {
          "base_uri": "https://localhost:8080/"
        },
        "id": "jGYa_QnB7wX5",
        "outputId": "3d0b7dde-bbdc-4422-8ec1-2fa1e38c1c09"
      },
      "execution_count": 1,
      "outputs": [
        {
          "output_type": "stream",
          "name": "stderr",
          "text": [
            "Some weights of the PyTorch model were not used when initializing the TF 2.0 model TFRobertaModel: ['lm_head.layer_norm.bias', 'lm_head.bias', 'lm_head.layer_norm.weight', 'lm_head.dense.weight', 'lm_head.dense.bias', 'roberta.embeddings.position_ids']\n",
            "- This IS expected if you are initializing TFRobertaModel from a PyTorch model trained on another task or with another architecture (e.g. initializing a TFBertForSequenceClassification model from a BertForPreTraining model).\n",
            "- This IS NOT expected if you are initializing TFRobertaModel from a PyTorch model that you expect to be exactly identical (e.g. initializing a TFBertForSequenceClassification model from a BertForSequenceClassification model).\n",
            "Some weights or buffers of the TF 2.0 model TFRobertaModel were not initialized from the PyTorch model and are newly initialized: ['roberta.pooler.dense.weight', 'roberta.pooler.dense.bias']\n",
            "You should probably TRAIN this model on a down-stream task to be able to use it for predictions and inference.\n"
          ]
        }
      ]
    },
    {
      "cell_type": "code",
      "source": [
        "def random_seed(SEED):\n",
        "    random.seed(SEED)\n",
        "    os.environ['PYTHONHASHSEED'] = str(SEED)\n",
        "    np.random.seed(SEED)\n",
        "    tf.random.set_seed(SEED)\n",
        "\n",
        "random_seed(SEED)"
      ],
      "metadata": {
        "id": "H3xHgU0T8drJ"
      },
      "execution_count": 2,
      "outputs": []
    },
    {
      "cell_type": "code",
      "source": [
        "# Roberta BiLSTM"
      ],
      "metadata": {
        "id": "S4Nyqd4FHt1y"
      },
      "execution_count": 3,
      "outputs": []
    },
    {
      "cell_type": "code",
      "source": [
        "input_ids_in = tf.keras.layers.Input(shape=(MAX_LENGTH, ),\n",
        "                                     name='input_token',\n",
        "                                     dtype='int32')\n",
        "input_masks_in = tf.keras.layers.Input(shape=(MAX_LENGTH, ),\n",
        "                                       name='masked_token',\n",
        "                                       dtype='int32')\n",
        "embedding_layer = transformer_model(input_ids_in,\n",
        "                                    attention_mask=input_masks_in)[0]\n",
        "X = tf.keras.layers.Bidirectional(\n",
        "    tf.keras.layers.LSTM(LSTM_UNITS,\n",
        "                         return_sequences=True,\n",
        "                         dropout=LSTM_DROPOUT,\n",
        "                         recurrent_dropout=LSTM_DROPOUT,\n",
        "                         kernel_initializer='normal'))(embedding_layer)\n",
        "if USE_ATT:\n",
        "    X = tf.keras.layers.Attention(use_scale=True)([X, X])  # Use attention.\n",
        "X = tf.keras.layers.GlobalMaxPool1D()(X)\n",
        "X = tf.keras.layers.Dense(DENSE_UNITS,\n",
        "                          activation='relu',\n",
        "                          kernel_initializer='normal')(X)\n",
        "X = tf.keras.layers.Dropout(DENSE_DROPOUT)(X)\n",
        "X = tf.keras.layers.Dense(\n",
        "    1,\n",
        "    activation='linear',  # Can be with activation=\"sigmoid\" here.\n",
        "    kernel_initializer='normal')(X)\n",
        "model = tf.keras.Model(inputs=[input_ids_in, input_masks_in], outputs=X)\n",
        "model.compile(\n",
        "    optimizer='adam',\n",
        "    loss='mean_squared_error',  # Treat HIP as a regression problem\n",
        "    metrics=['acc', tf.keras.metrics.RootMeanSquaredError()])\n",
        "model.summary()"
      ],
      "metadata": {
        "colab": {
          "base_uri": "https://localhost:8080/"
        },
        "id": "Cbu7AY5_9Uf6",
        "outputId": "98864a3c-e1ab-4041-be6a-3a4f6271af15"
      },
      "execution_count": 4,
      "outputs": [
        {
          "output_type": "stream",
          "name": "stderr",
          "text": [
            "WARNING:tensorflow:Layer lstm will not use cuDNN kernels since it doesn't meet the criteria. It will use a generic GPU kernel as fallback when running on GPU.\n",
            "WARNING:tensorflow:Layer lstm will not use cuDNN kernels since it doesn't meet the criteria. It will use a generic GPU kernel as fallback when running on GPU.\n",
            "WARNING:tensorflow:Layer lstm will not use cuDNN kernels since it doesn't meet the criteria. It will use a generic GPU kernel as fallback when running on GPU.\n"
          ]
        },
        {
          "output_type": "stream",
          "name": "stdout",
          "text": [
            "Model: \"model\"\n",
            "__________________________________________________________________________________________________\n",
            " Layer (type)                Output Shape                 Param #   Connected to                  \n",
            "==================================================================================================\n",
            " input_token (InputLayer)    [(None, 128)]                0         []                            \n",
            "                                                                                                  \n",
            " masked_token (InputLayer)   [(None, 128)]                0         []                            \n",
            "                                                                                                  \n",
            " tf_roberta_model (TFRobert  TFBaseModelOutputWithPooli   1246456   ['input_token[0][0]',         \n",
            " aModel)                     ngAndCrossAttentions(last_   32         'masked_token[0][0]']        \n",
            "                             hidden_state=(None, 128, 7                                           \n",
            "                             68),                                                                 \n",
            "                              pooler_output=(None, 768)                                           \n",
            "                             , past_key_values=None, hi                                           \n",
            "                             dden_states=None, attentio                                           \n",
            "                             ns=((None, 12, None, 128),                                           \n",
            "                              (None, 12, None, 128),                                              \n",
            "                              (None, 12, None, 128),                                              \n",
            "                              (None, 12, None, 128),                                              \n",
            "                              (None, 12, None, 128),                                              \n",
            "                              (None, 12, None, 128),                                              \n",
            "                              (None, 12, None, 128),                                              \n",
            "                              (None, 12, None, 128),                                              \n",
            "                              (None, 12, None, 128),                                              \n",
            "                              (None, 12, None, 128),                                              \n",
            "                              (None, 12, None, 128),                                              \n",
            "                              (None, 12, None, 128)),                                             \n",
            "                              cross_attentions=None)                                              \n",
            "                                                                                                  \n",
            " bidirectional (Bidirection  (None, 128, 1024)            5246976   ['tf_roberta_model[0][12]']   \n",
            " al)                                                                                              \n",
            "                                                                                                  \n",
            " attention (Attention)       (None, 128, 1024)            1         ['bidirectional[0][0]',       \n",
            "                                                                     'bidirectional[0][0]']       \n",
            "                                                                                                  \n",
            " global_max_pooling1d (Glob  (None, 1024)                 0         ['attention[0][0]']           \n",
            " alMaxPooling1D)                                                                                  \n",
            "                                                                                                  \n",
            " dense (Dense)               (None, 50)                   51250     ['global_max_pooling1d[0][0]']\n",
            "                                                                                                  \n",
            " dropout_37 (Dropout)        (None, 50)                   0         ['dense[0][0]']               \n",
            "                                                                                                  \n",
            " dense_1 (Dense)             (None, 1)                    51        ['dropout_37[0][0]']          \n",
            "                                                                                                  \n",
            "==================================================================================================\n",
            "Total params: 129943910 (495.70 MB)\n",
            "Trainable params: 5298278 (20.21 MB)\n",
            "Non-trainable params: 124645632 (475.49 MB)\n",
            "__________________________________________________________________________________________________\n"
          ]
        }
      ]
    },
    {
      "cell_type": "code",
      "source": [
        "# Roberta RCNN"
      ],
      "metadata": {
        "id": "lgy9wAPFNZxp"
      },
      "execution_count": 4,
      "outputs": []
    },
    {
      "cell_type": "code",
      "source": [
        "from tensorflow.keras.layers import Input, Dense, Dropout, Bidirectional, LSTM, Conv1D, GlobalMaxPooling1D\n",
        "\n",
        "# Create the model\n",
        "input_ids_in = Input(shape=(MAX_LENGTH,), name='input_token', dtype='int32')\n",
        "input_masks_in = Input(shape=(MAX_LENGTH,), name='masked_token', dtype='int32')\n",
        "\n",
        "embedding_layer = transformer_model(input_ids_in, attention_mask=input_masks_in)[0]\n",
        "\n",
        "# Bi-directional LSTM layer\n",
        "X_lstm = Bidirectional(LSTM(LSTM_UNITS, return_sequences=True))(embedding_layer)\n",
        "\n",
        "# Convolutional layer\n",
        "X_conv = Conv1D(filters=128, kernel_size=2, activation='relu')(X_lstm)  # Apply CNN on LSTM output\n",
        "\n",
        "# Global Max Pooling layer\n",
        "X_pool = GlobalMaxPooling1D()(X_conv)\n",
        "\n",
        "# Dense layers\n",
        "X = Dense(DENSE_UNITS, activation='relu')(X_pool)\n",
        "X = Dropout(DENSE_DROPOUT)(X)\n",
        "X = Dense(1, activation='linear')(X)\n",
        "\n",
        "model = tf.keras.Model(inputs=[input_ids_in, input_masks_in], outputs=X)\n",
        "\n",
        "# Compile the model\n",
        "model.compile(optimizer='adam',\n",
        "              loss='mean_squared_error',\n",
        "              metrics=['accuracy', tf.keras.metrics.RootMeanSquaredError()])\n",
        "\n",
        "model.summary()\n"
      ],
      "metadata": {
        "colab": {
          "base_uri": "https://localhost:8080/"
        },
        "id": "hTII84RVNb2z",
        "outputId": "dca14c13-81e3-4ad2-9676-bc4142265c3e"
      },
      "execution_count": 6,
      "outputs": [
        {
          "output_type": "stream",
          "name": "stdout",
          "text": [
            "Model: \"model\"\n",
            "__________________________________________________________________________________________________\n",
            " Layer (type)                Output Shape                 Param #   Connected to                  \n",
            "==================================================================================================\n",
            " input_token (InputLayer)    [(None, 128)]                0         []                            \n",
            "                                                                                                  \n",
            " masked_token (InputLayer)   [(None, 128)]                0         []                            \n",
            "                                                                                                  \n",
            " tf_roberta_model (TFRobert  TFBaseModelOutputWithPooli   1246456   ['input_token[0][0]',         \n",
            " aModel)                     ngAndCrossAttentions(last_   32         'masked_token[0][0]']        \n",
            "                             hidden_state=(None, 128, 7                                           \n",
            "                             68),                                                                 \n",
            "                              pooler_output=(None, 768)                                           \n",
            "                             , past_key_values=None, hi                                           \n",
            "                             dden_states=None, attentio                                           \n",
            "                             ns=((None, 12, None, 128),                                           \n",
            "                              (None, 12, None, 128),                                              \n",
            "                              (None, 12, None, 128),                                              \n",
            "                              (None, 12, None, 128),                                              \n",
            "                              (None, 12, None, 128),                                              \n",
            "                              (None, 12, None, 128),                                              \n",
            "                              (None, 12, None, 128),                                              \n",
            "                              (None, 12, None, 128),                                              \n",
            "                              (None, 12, None, 128),                                              \n",
            "                              (None, 12, None, 128),                                              \n",
            "                              (None, 12, None, 128),                                              \n",
            "                              (None, 12, None, 128)),                                             \n",
            "                              cross_attentions=None)                                              \n",
            "                                                                                                  \n",
            " bidirectional (Bidirection  (None, 128, 1024)            5246976   ['tf_roberta_model[0][12]']   \n",
            " al)                                                                                              \n",
            "                                                                                                  \n",
            " conv1d (Conv1D)             (None, 127, 128)             262272    ['bidirectional[0][0]']       \n",
            "                                                                                                  \n",
            " global_max_pooling1d (Glob  (None, 128)                  0         ['conv1d[0][0]']              \n",
            " alMaxPooling1D)                                                                                  \n",
            "                                                                                                  \n",
            " dense (Dense)               (None, 50)                   6450      ['global_max_pooling1d[0][0]']\n",
            "                                                                                                  \n",
            " dropout_37 (Dropout)        (None, 50)                   0         ['dense[0][0]']               \n",
            "                                                                                                  \n",
            " dense_1 (Dense)             (None, 1)                    51        ['dropout_37[0][0]']          \n",
            "                                                                                                  \n",
            "==================================================================================================\n",
            "Total params: 130161381 (496.53 MB)\n",
            "Trainable params: 5515749 (21.04 MB)\n",
            "Non-trainable params: 124645632 (475.49 MB)\n",
            "__________________________________________________________________________________________________\n"
          ]
        }
      ]
    },
    {
      "cell_type": "code",
      "source": [
        "# Roberta RCNN with attention"
      ],
      "metadata": {
        "id": "Fe0zhDNrRpnR"
      },
      "execution_count": 3,
      "outputs": []
    },
    {
      "cell_type": "code",
      "source": [
        "from tensorflow.keras.layers import Input, Dense, Dropout, Bidirectional, LSTM, Conv1D, GlobalMaxPooling1D, Attention, Concatenate\n",
        "# Inputs\n",
        "input_ids_in = Input(shape=(MAX_LENGTH,), name='input_token', dtype='int32')\n",
        "input_masks_in = Input(shape=(MAX_LENGTH,), name='masked_token', dtype='int32')\n",
        "\n",
        "# Transformer Model for Embedding\n",
        "embedding_layer = transformer_model(input_ids_in, attention_mask=input_masks_in)[0]\n",
        "\n",
        "# Bi-directional LSTM layer\n",
        "X_lstm = Bidirectional(LSTM(LSTM_UNITS, return_sequences=True))(embedding_layer)\n",
        "\n",
        "# Convolutional layer\n",
        "X_conv = Conv1D(filters=128, kernel_size=2, activation='relu')(X_lstm)  # Apply CNN on LSTM output\n",
        "\n",
        "# Attention layer\n",
        "USE_ATT = True  # set to True or False\n",
        "if USE_ATT:\n",
        "    X_att = Attention(use_scale=True)([X_conv, X_conv])\n",
        "    # Combining original convolution outputs and attention outputs\n",
        "    X_combined = Concatenate(axis=-1)([X_conv, X_att])\n",
        "    X_pool = GlobalMaxPooling1D()(X_combined)\n",
        "else:\n",
        "    X_pool = GlobalMaxPooling1D()(X_conv)\n",
        "\n",
        "# Dense layers\n",
        "X = Dense(DENSE_UNITS, activation='relu')(X_pool)\n",
        "X = Dropout(DENSE_DROPOUT)(X)\n",
        "X = Dense(1, activation='linear')(X)  # regression output\n",
        "\n",
        "# Final model\n",
        "model = tf.keras.Model(inputs=[input_ids_in, input_masks_in], outputs=X)\n",
        "\n",
        "# Compile the model\n",
        "model.compile(optimizer='adam',\n",
        "              loss='mean_squared_error',\n",
        "              metrics=['accuracy', tf.keras.metrics.RootMeanSquaredError()])\n",
        "\n",
        "# Model Summary\n",
        "model.summary()"
      ],
      "metadata": {
        "colab": {
          "base_uri": "https://localhost:8080/"
        },
        "id": "-OFzBCqGRrro",
        "outputId": "df99437c-3783-444d-d876-df35780f0b6c"
      },
      "execution_count": 6,
      "outputs": [
        {
          "output_type": "stream",
          "name": "stdout",
          "text": [
            "Model: \"model\"\n",
            "__________________________________________________________________________________________________\n",
            " Layer (type)                Output Shape                 Param #   Connected to                  \n",
            "==================================================================================================\n",
            " input_token (InputLayer)    [(None, 128)]                0         []                            \n",
            "                                                                                                  \n",
            " masked_token (InputLayer)   [(None, 128)]                0         []                            \n",
            "                                                                                                  \n",
            " tf_roberta_model (TFRobert  TFBaseModelOutputWithPooli   1246456   ['input_token[0][0]',         \n",
            " aModel)                     ngAndCrossAttentions(last_   32         'masked_token[0][0]']        \n",
            "                             hidden_state=(None, 128, 7                                           \n",
            "                             68),                                                                 \n",
            "                              pooler_output=(None, 768)                                           \n",
            "                             , past_key_values=None, hi                                           \n",
            "                             dden_states=None, attentio                                           \n",
            "                             ns=((None, 12, None, 128),                                           \n",
            "                              (None, 12, None, 128),                                              \n",
            "                              (None, 12, None, 128),                                              \n",
            "                              (None, 12, None, 128),                                              \n",
            "                              (None, 12, None, 128),                                              \n",
            "                              (None, 12, None, 128),                                              \n",
            "                              (None, 12, None, 128),                                              \n",
            "                              (None, 12, None, 128),                                              \n",
            "                              (None, 12, None, 128),                                              \n",
            "                              (None, 12, None, 128),                                              \n",
            "                              (None, 12, None, 128),                                              \n",
            "                              (None, 12, None, 128)),                                             \n",
            "                              cross_attentions=None)                                              \n",
            "                                                                                                  \n",
            " bidirectional_1 (Bidirecti  (None, 128, 1024)            5246976   ['tf_roberta_model[1][12]']   \n",
            " onal)                                                                                            \n",
            "                                                                                                  \n",
            " conv1d_1 (Conv1D)           (None, 127, 128)             262272    ['bidirectional_1[0][0]']     \n",
            "                                                                                                  \n",
            " attention (Attention)       (None, 127, 128)             1         ['conv1d_1[0][0]',            \n",
            "                                                                     'conv1d_1[0][0]']            \n",
            "                                                                                                  \n",
            " concatenate (Concatenate)   (None, 127, 256)             0         ['conv1d_1[0][0]',            \n",
            "                                                                     'attention[0][0]']           \n",
            "                                                                                                  \n",
            " global_max_pooling1d (Glob  (None, 256)                  0         ['concatenate[0][0]']         \n",
            " alMaxPooling1D)                                                                                  \n",
            "                                                                                                  \n",
            " dense (Dense)               (None, 50)                   12850     ['global_max_pooling1d[0][0]']\n",
            "                                                                                                  \n",
            " dropout_37 (Dropout)        (None, 50)                   0         ['dense[0][0]']               \n",
            "                                                                                                  \n",
            " dense_1 (Dense)             (None, 1)                    51        ['dropout_37[0][0]']          \n",
            "                                                                                                  \n",
            "==================================================================================================\n",
            "Total params: 130167782 (496.55 MB)\n",
            "Trainable params: 5522150 (21.07 MB)\n",
            "Non-trainable params: 124645632 (475.49 MB)\n",
            "__________________________________________________________________________________________________\n"
          ]
        }
      ]
    },
    {
      "cell_type": "code",
      "source": [
        "import pandas as pd\n",
        "input_data = pd.read_csv(\"hate_norm_with_span.csv\")"
      ],
      "metadata": {
        "id": "H-vYvdxw9csY"
      },
      "execution_count": 7,
      "outputs": []
    },
    {
      "cell_type": "code",
      "source": [
        "\n",
        "\n",
        "intensity_value = []\n",
        "hate_sentences = []\n",
        "\n",
        "for i in range(len(input_data)):\n",
        "    intensity_value.append(int(input_data['Original_Intensity'][i]))\n",
        "    hate_sentences.append(input_data['Sentence'][i])\n",
        "    intensity_value.append(int(input_data['Normalized_Intensity'][i]))\n",
        "    hate_sentences.append(input_data['Normalized_Sentence'][i])\n",
        "\n",
        "c = list(zip(intensity_value, hate_sentences))\n",
        "random.shuffle(c)\n",
        "intensity_value, hate_sentences = zip(*c)\n",
        "\n",
        "X_tr, X_te, y_tr, y_te = train_test_split(hate_sentences,\n",
        "                                          intensity_value,\n",
        "                                          test_size=TEST_SIZE,\n",
        "                                          random_state=1)\n",
        "\n",
        "train_input_ids, train_input_masks = tokenize(\n",
        "    X_tr, tokenizer)\n",
        "test_input_ids, test_input_masks = tokenize(\n",
        "    X_te, tokenizer)\n",
        "y_tr = np.asarray(y_tr)\n",
        "y_te = np.asarray(y_te)"
      ],
      "metadata": {
        "colab": {
          "base_uri": "https://localhost:8080/"
        },
        "id": "ckb_-IYP9hBr",
        "outputId": "50b81ed2-6e29-4707-ab07-7438baea38d0"
      },
      "execution_count": 8,
      "outputs": [
        {
          "output_type": "stream",
          "name": "stderr",
          "text": [
            "  0%|          | 0/5145 [00:00<?, ?it/s]Truncation was not explicitly activated but `max_length` is provided a specific value, please use `truncation=True` to explicitly truncate examples to max length. Defaulting to 'longest_first' truncation strategy. If you encode pairs of sequences (GLUE-style) with the tokenizer you can select this strategy more precisely by providing a specific strategy to `truncation`.\n",
            "/usr/local/lib/python3.10/dist-packages/transformers/tokenization_utils_base.py:2622: FutureWarning: The `pad_to_max_length` argument is deprecated and will be removed in a future version, use `padding=True` or `padding='longest'` to pad to the longest sequence in the batch, or use `padding='max_length'` to pad to a max length. In this case, you can give a specific length with `max_length` (e.g. `max_length=45`) or leave max_length to None to pad to the maximal input size of the model (e.g. 512 for Bert).\n",
            "  warnings.warn(\n",
            "100%|██████████| 5145/5145 [00:01<00:00, 3207.84it/s]\n",
            "100%|██████████| 909/909 [00:00<00:00, 3862.08it/s]\n"
          ]
        }
      ]
    },
    {
      "cell_type": "code",
      "source": [
        "model.fit(x=[train_input_ids, train_input_masks],\n",
        "          y=y_tr,\n",
        "          epochs=10,\n",
        "          validation_split=0.15,\n",
        "          batch_size=BATCH_SIZE)\n",
        "\n",
        "print(\"TEST split\", TEST_SIZE)\n",
        "results = model.evaluate(x=[test_input_ids, test_input_masks], y=y_te)\n",
        "print(results)\n",
        "result = model.predict(x=[test_input_ids, test_input_masks])\n",
        "result = np.array(result, dtype=np.float)\n",
        "result = result.flatten()\n",
        "print(\"pear\", stats.pearsonr(result, y_te))\n",
        "print(\"cosine\", 1 - distance.cosine(result, y_te))"
      ],
      "metadata": {
        "colab": {
          "base_uri": "https://localhost:8080/"
        },
        "id": "XieF0X-a9jMp",
        "outputId": "0a21c8c7-767a-4acb-bc05-3cb7a3ceb83d"
      },
      "execution_count": 9,
      "outputs": [
        {
          "output_type": "stream",
          "name": "stdout",
          "text": [
            "Epoch 1/10\n",
            "137/137 [==============================] - 80s 430ms/step - loss: 4.9822 - accuracy: 0.0055 - root_mean_squared_error: 2.2321 - val_loss: 2.9347 - val_accuracy: 0.0091 - val_root_mean_squared_error: 1.7131\n",
            "Epoch 2/10\n",
            "137/137 [==============================] - 55s 398ms/step - loss: 3.1444 - accuracy: 0.0055 - root_mean_squared_error: 1.7732 - val_loss: 2.2909 - val_accuracy: 0.0091 - val_root_mean_squared_error: 1.5136\n",
            "Epoch 3/10\n",
            "137/137 [==============================] - 55s 404ms/step - loss: 2.7462 - accuracy: 0.0055 - root_mean_squared_error: 1.6572 - val_loss: 1.9207 - val_accuracy: 0.0091 - val_root_mean_squared_error: 1.3859\n",
            "Epoch 4/10\n",
            "137/137 [==============================] - 56s 407ms/step - loss: 2.5087 - accuracy: 0.0055 - root_mean_squared_error: 1.5839 - val_loss: 1.9579 - val_accuracy: 0.0091 - val_root_mean_squared_error: 1.3993\n",
            "Epoch 5/10\n",
            "137/137 [==============================] - 56s 408ms/step - loss: 2.1811 - accuracy: 0.0055 - root_mean_squared_error: 1.4769 - val_loss: 1.7647 - val_accuracy: 0.0091 - val_root_mean_squared_error: 1.3284\n",
            "Epoch 6/10\n",
            "137/137 [==============================] - 56s 412ms/step - loss: 1.9769 - accuracy: 0.0055 - root_mean_squared_error: 1.4060 - val_loss: 1.5590 - val_accuracy: 0.0091 - val_root_mean_squared_error: 1.2486\n",
            "Epoch 7/10\n",
            "137/137 [==============================] - 53s 385ms/step - loss: 1.8915 - accuracy: 0.0055 - root_mean_squared_error: 1.3753 - val_loss: 1.4937 - val_accuracy: 0.0091 - val_root_mean_squared_error: 1.2222\n",
            "Epoch 8/10\n",
            "137/137 [==============================] - 56s 412ms/step - loss: 1.8027 - accuracy: 0.0055 - root_mean_squared_error: 1.3427 - val_loss: 1.4355 - val_accuracy: 0.0091 - val_root_mean_squared_error: 1.1981\n",
            "Epoch 9/10\n",
            "137/137 [==============================] - 56s 411ms/step - loss: 1.6339 - accuracy: 0.0055 - root_mean_squared_error: 1.2783 - val_loss: 1.4346 - val_accuracy: 0.0091 - val_root_mean_squared_error: 1.1977\n",
            "Epoch 10/10\n",
            "137/137 [==============================] - 53s 386ms/step - loss: 1.6641 - accuracy: 0.0055 - root_mean_squared_error: 1.2900 - val_loss: 1.5700 - val_accuracy: 0.0091 - val_root_mean_squared_error: 1.2530\n",
            "TEST split 0.15\n",
            "29/29 [==============================] - 8s 274ms/step - loss: 1.4141 - accuracy: 0.0088 - root_mean_squared_error: 1.1892\n",
            "[1.4141063690185547, 0.008800880052149296, 1.189162015914917]\n",
            "29/29 [==============================] - 11s 268ms/step\n",
            "pear PearsonRResult(statistic=0.8306732121400401, pvalue=6.675338632272538e-233)\n",
            "cosine 0.9812501568674071\n"
          ]
        },
        {
          "output_type": "stream",
          "name": "stderr",
          "text": [
            "<ipython-input-9-ba1e461bdfe1>:11: DeprecationWarning: `np.float` is a deprecated alias for the builtin `float`. To silence this warning, use `float` by itself. Doing this will not modify any behavior and is safe. If you specifically wanted the numpy scalar type, use `np.float64` here.\n",
            "Deprecated in NumPy 1.20; for more details and guidance: https://numpy.org/devdocs/release/1.20.0-notes.html#deprecations\n",
            "  result = np.array(result, dtype=np.float)\n"
          ]
        }
      ]
    },
    {
      "cell_type": "code",
      "source": [
        "experiment.end()"
      ],
      "metadata": {
        "colab": {
          "base_uri": "https://localhost:8080/"
        },
        "id": "hI82kgf29oEE",
        "outputId": "b54f0d5e-560d-49e4-f0c4-af1cce7eadff"
      },
      "execution_count": 11,
      "outputs": [
        {
          "output_type": "stream",
          "name": "stderr",
          "text": [
            "\u001b[1;38;5;39mCOMET INFO:\u001b[0m ---------------------------------------------------------------------------------------\n",
            "\u001b[1;38;5;39mCOMET INFO:\u001b[0m Comet.ml Experiment Summary\n",
            "\u001b[1;38;5;39mCOMET INFO:\u001b[0m ---------------------------------------------------------------------------------------\n",
            "\u001b[1;38;5;39mCOMET INFO:\u001b[0m   Data:\n",
            "\u001b[1;38;5;39mCOMET INFO:\u001b[0m     display_summary_level : 1\n",
            "\u001b[1;38;5;39mCOMET INFO:\u001b[0m     url                   : https://www.comet.com/swaroop/ire-project/fb91926badda4dbcbfd1a2ebe29b11b7\n",
            "\u001b[1;38;5;39mCOMET INFO:\u001b[0m   Metrics [count] (min, max):\n",
            "\u001b[1;38;5;39mCOMET INFO:\u001b[0m     acc                                         : 0.006883891765028238\n",
            "\u001b[1;38;5;39mCOMET INFO:\u001b[0m     batch_acc [140]                             : (0.0, 0.0625)\n",
            "\u001b[1;38;5;39mCOMET INFO:\u001b[0m     batch_loss [140]                            : (1.4923210144042969, 32.256107330322266)\n",
            "\u001b[1;38;5;39mCOMET INFO:\u001b[0m     batch_root_mean_squared_error [140]         : (1.221605896949768, 5.679445743560791)\n",
            "\u001b[1;38;5;39mCOMET INFO:\u001b[0m     epoch_duration [10]                         : (185.18815105499993, 226.32476023100003)\n",
            "\u001b[1;38;5;39mCOMET INFO:\u001b[0m     loss [10]                                   : (1.601823091506958, 4.8846211433410645)\n",
            "\u001b[1;38;5;39mCOMET INFO:\u001b[0m     root_mean_squared_error [10]                : (1.2656314373016357, 2.210117816925049)\n",
            "\u001b[1;38;5;39mCOMET INFO:\u001b[0m     val_acc                                     : 0.002061855746433139\n",
            "\u001b[1;38;5;39mCOMET INFO:\u001b[0m     val_loss [10]                               : (1.2664790153503418, 3.0494253635406494)\n",
            "\u001b[1;38;5;39mCOMET INFO:\u001b[0m     val_root_mean_squared_error [10]            : (1.1253794431686401, 1.746260404586792)\n",
            "\u001b[1;38;5;39mCOMET INFO:\u001b[0m     validate_batch_acc [20]                     : (0.0, 0.0028409091755747795)\n",
            "\u001b[1;38;5;39mCOMET INFO:\u001b[0m     validate_batch_loss [20]                    : (1.0229452848434448, 3.068953514099121)\n",
            "\u001b[1;38;5;39mCOMET INFO:\u001b[0m     validate_batch_root_mean_squared_error [20] : (1.0114076137542725, 1.7518428564071655)\n",
            "\u001b[1;38;5;39mCOMET INFO:\u001b[0m   Others:\n",
            "\u001b[1;38;5;39mCOMET INFO:\u001b[0m     Name             : HIP_distilled_roberta_bilstm-v1\n",
            "\u001b[1;38;5;39mCOMET INFO:\u001b[0m     trainable_params : 129943910\n",
            "\u001b[1;38;5;39mCOMET INFO:\u001b[0m   Parameters:\n",
            "\u001b[1;38;5;39mCOMET INFO:\u001b[0m     Adam_amsgrad                 : False\n",
            "\u001b[1;38;5;39mCOMET INFO:\u001b[0m     Adam_beta_1                  : 0.9\n",
            "\u001b[1;38;5;39mCOMET INFO:\u001b[0m     Adam_beta_2                  : 0.999\n",
            "\u001b[1;38;5;39mCOMET INFO:\u001b[0m     Adam_clipnorm                : 1\n",
            "\u001b[1;38;5;39mCOMET INFO:\u001b[0m     Adam_clipvalue               : 1\n",
            "\u001b[1;38;5;39mCOMET INFO:\u001b[0m     Adam_ema_momentum            : 0.99\n",
            "\u001b[1;38;5;39mCOMET INFO:\u001b[0m     Adam_ema_overwrite_frequency : 1\n",
            "\u001b[1;38;5;39mCOMET INFO:\u001b[0m     Adam_epsilon                 : 1e-07\n",
            "\u001b[1;38;5;39mCOMET INFO:\u001b[0m     Adam_global_clipnorm         : 1\n",
            "\u001b[1;38;5;39mCOMET INFO:\u001b[0m     Adam_is_legacy_optimizer     : False\n",
            "\u001b[1;38;5;39mCOMET INFO:\u001b[0m     Adam_jit_compile             : True\n",
            "\u001b[1;38;5;39mCOMET INFO:\u001b[0m     Adam_learning_rate           : 0.0010000000474974513\n",
            "\u001b[1;38;5;39mCOMET INFO:\u001b[0m     Adam_name                    : Adam\n",
            "\u001b[1;38;5;39mCOMET INFO:\u001b[0m     Adam_use_ema                 : False\n",
            "\u001b[1;38;5;39mCOMET INFO:\u001b[0m     Adam_weight_decay            : 1\n",
            "\u001b[1;38;5;39mCOMET INFO:\u001b[0m     epochs                       : 10\n",
            "\u001b[1;38;5;39mCOMET INFO:\u001b[0m     steps                        : 137\n",
            "\u001b[1;38;5;39mCOMET INFO:\u001b[0m   Uploads:\n",
            "\u001b[1;38;5;39mCOMET INFO:\u001b[0m     environment details : 1\n",
            "\u001b[1;38;5;39mCOMET INFO:\u001b[0m     filename            : 1\n",
            "\u001b[1;38;5;39mCOMET INFO:\u001b[0m     installed packages  : 1\n",
            "\u001b[1;38;5;39mCOMET INFO:\u001b[0m     model graph         : 1\n",
            "\u001b[1;38;5;39mCOMET INFO:\u001b[0m     notebook            : 2\n",
            "\u001b[1;38;5;39mCOMET INFO:\u001b[0m     os packages         : 1\n",
            "\u001b[1;38;5;39mCOMET INFO:\u001b[0m     source_code         : 1\n",
            "\u001b[1;38;5;39mCOMET INFO:\u001b[0m \n",
            "\u001b[1;38;5;39mCOMET INFO:\u001b[0m Please wait for metadata to finish uploading (timeout is 3600 seconds)\n"
          ]
        }
      ]
    },
    {
      "cell_type": "code",
      "source": [
        "# Model architecture"
      ],
      "metadata": {
        "id": "My4i8fAtAM4L"
      },
      "execution_count": 12,
      "outputs": []
    },
    {
      "cell_type": "code",
      "source": [
        "tf.keras.utils.plot_model(\n",
        "    model,\n",
        "    to_file='model_rcnn_orig.png',\n",
        "    show_shapes=False,\n",
        "    show_dtype=False,\n",
        "    show_layer_names=True,\n",
        "    rankdir='TB',\n",
        "    expand_nested=False,\n",
        "    dpi=96,\n",
        "    layer_range=None,\n",
        "    show_layer_activations=False,\n",
        "    show_trainable=False\n",
        ")"
      ],
      "metadata": {
        "colab": {
          "base_uri": "https://localhost:8080/",
          "height": 953
        },
        "id": "Mb5YGtGjHAwA",
        "outputId": "c19ee803-fb5b-4465-a626-6a2d55b45679"
      },
      "execution_count": 10,
      "outputs": [
        {
          "output_type": "execute_result",
          "data": {
            "image/png": "[encoded data removed]",
            "text/plain": [
              "<IPython.core.display.Image object>"
            ]
          },
          "metadata": {},
          "execution_count": 10
        }
      ]
    },
    {
      "cell_type": "code",
      "source": [
        "# Roberta BiLSTM CNN"
      ],
      "metadata": {
        "id": "pv6mzm9CALJ9"
      },
      "execution_count": 5,
      "outputs": []
    },
    {
      "cell_type": "code",
      "source": [
        "experiment.set_name(\"HIP_roberta_rcnn\")"
      ],
      "metadata": {
        "id": "Q4x9Wj_fCTHK"
      },
      "execution_count": 2,
      "outputs": []
    },
    {
      "cell_type": "code",
      "source": [
        "from tensorflow.keras.layers import Input, Dense, Dropout, Bidirectional, LSTM, Conv1D, GlobalMaxPooling1D, Concatenate\n",
        "from transformers import TFBertModel\n",
        "import tensorflow as tf\n",
        "\n",
        "# Set some parameters\n",
        "MAX_LENGTH = 128\n",
        "LSTM_UNITS = 512\n",
        "DENSE_UNITS = 64\n",
        "DENSE_DROPOUT = 0.2\n",
        "\n",
        "# Load the BERT model\n",
        "#transformer_model = TFBertModel.from_pretrained(\"bert-base-uncased\")\n",
        "\n",
        "# Create the model\n",
        "input_ids_in = Input(shape=(MAX_LENGTH,), name='input_token', dtype='int32')\n",
        "input_masks_in = Input(shape=(MAX_LENGTH,), name='masked_token', dtype='int32')\n",
        "\n",
        "embedding_layer = transformer_model(input_ids_in, attention_mask=input_masks_in)[0]\n",
        "\n",
        "# Bi-directional LSTM layer\n",
        "X_lstm = Bidirectional(LSTM(LSTM_UNITS, return_sequences=True))(embedding_layer)\n",
        "\n",
        "# Apply a pooling layer to the LSTM outputs\n",
        "X_lstm = GlobalMaxPooling1D()(X_lstm)\n",
        "\n",
        "# Convolutional layer\n",
        "X_conv = Conv1D(filters=128, kernel_size=2, activation='relu')(embedding_layer)\n",
        "\n",
        "# Global Max Pooling layer\n",
        "X_pool = GlobalMaxPooling1D()(X_conv)\n",
        "\n",
        "# Concatenation of all layers\n",
        "X_concat = Concatenate(axis=1)([X_lstm, X_pool])\n",
        "\n",
        "# Dense layers\n",
        "X = Dense(DENSE_UNITS, activation='relu')(X_concat)\n",
        "X = Dropout(DENSE_DROPOUT)(X)\n",
        "X = Dense(1, activation='linear')(X)\n",
        "\n",
        "model = tf.keras.Model(inputs=[input_ids_in, input_masks_in], outputs=X)\n",
        "\n",
        "# Compile the model\n",
        "model.compile(optimizer='adam',\n",
        "              loss='mean_squared_error',\n",
        "              metrics=['accuracy', tf.keras.metrics.RootMeanSquaredError()])\n",
        "\n",
        "model.summary()\n"
      ],
      "metadata": {
        "colab": {
          "base_uri": "https://localhost:8080/"
        },
        "id": "fmd1_hWcAPyY",
        "outputId": "050bb27b-e9c1-42e4-ca4d-d3701286c295"
      },
      "execution_count": 8,
      "outputs": [
        {
          "output_type": "stream",
          "name": "stdout",
          "text": [
            "Model: \"model\"\n",
            "__________________________________________________________________________________________________\n",
            " Layer (type)                Output Shape                 Param #   Connected to                  \n",
            "==================================================================================================\n",
            " input_token (InputLayer)    [(None, 128)]                0         []                            \n",
            "                                                                                                  \n",
            " masked_token (InputLayer)   [(None, 128)]                0         []                            \n",
            "                                                                                                  \n",
            " tf_roberta_model (TFRobert  TFBaseModelOutputWithPooli   1246456   ['input_token[0][0]',         \n",
            " aModel)                     ngAndCrossAttentions(last_   32         'masked_token[0][0]']        \n",
            "                             hidden_state=(None, 128, 7                                           \n",
            "                             68),                                                                 \n",
            "                              pooler_output=(None, 768)                                           \n",
            "                             , past_key_values=None, hi                                           \n",
            "                             dden_states=None, attentio                                           \n",
            "                             ns=((None, 12, None, 128),                                           \n",
            "                              (None, 12, None, 128),                                              \n",
            "                              (None, 12, None, 128),                                              \n",
            "                              (None, 12, None, 128),                                              \n",
            "                              (None, 12, None, 128),                                              \n",
            "                              (None, 12, None, 128),                                              \n",
            "                              (None, 12, None, 128),                                              \n",
            "                              (None, 12, None, 128),                                              \n",
            "                              (None, 12, None, 128),                                              \n",
            "                              (None, 12, None, 128),                                              \n",
            "                              (None, 12, None, 128),                                              \n",
            "                              (None, 12, None, 128)),                                             \n",
            "                              cross_attentions=None)                                              \n",
            "                                                                                                  \n",
            " bidirectional (Bidirection  (None, 128, 1024)            5246976   ['tf_roberta_model[0][12]']   \n",
            " al)                                                                                              \n",
            "                                                                                                  \n",
            " conv1d (Conv1D)             (None, 127, 128)             196736    ['tf_roberta_model[0][12]']   \n",
            "                                                                                                  \n",
            " global_max_pooling1d (Glob  (None, 1024)                 0         ['bidirectional[0][0]']       \n",
            " alMaxPooling1D)                                                                                  \n",
            "                                                                                                  \n",
            " global_max_pooling1d_1 (Gl  (None, 128)                  0         ['conv1d[0][0]']              \n",
            " obalMaxPooling1D)                                                                                \n",
            "                                                                                                  \n",
            " concatenate (Concatenate)   (None, 1152)                 0         ['global_max_pooling1d[0][0]',\n",
            "                                                                     'global_max_pooling1d_1[0][0]\n",
            "                                                                    ']                            \n",
            "                                                                                                  \n",
            " dense (Dense)               (None, 64)                   73792     ['concatenate[0][0]']         \n",
            "                                                                                                  \n",
            " dropout_37 (Dropout)        (None, 64)                   0         ['dense[0][0]']               \n",
            "                                                                                                  \n",
            " dense_1 (Dense)             (None, 1)                    65        ['dropout_37[0][0]']          \n",
            "                                                                                                  \n",
            "==================================================================================================\n",
            "Total params: 130163201 (496.53 MB)\n",
            "Trainable params: 5517569 (21.05 MB)\n",
            "Non-trainable params: 124645632 (475.49 MB)\n",
            "__________________________________________________________________________________________________\n"
          ]
        }
      ]
    },
    {
      "cell_type": "code",
      "source": [
        "tf.keras.utils.plot_model(\n",
        "    model,\n",
        "    to_file='model_rcnn.png',\n",
        "    show_shapes=False,\n",
        "    show_dtype=False,\n",
        "    show_layer_names=True,\n",
        "    rankdir='TB',\n",
        "    expand_nested=False,\n",
        "    dpi=96,\n",
        "    layer_range=None,\n",
        "    show_layer_activations=False,\n",
        "    show_trainable=False\n",
        ")"
      ],
      "metadata": {
        "colab": {
          "base_uri": "https://localhost:8080/",
          "height": 758
        },
        "id": "ZlY_VQJRH_Su",
        "outputId": "74a178e6-e62c-4fb0-bc4f-52c30285eec5"
      },
      "execution_count": 9,
      "outputs": [
        {
          "output_type": "execute_result",
          "data": {
            "image/png": "[encoded data removed]",
            "text/plain": [
              "<IPython.core.display.Image object>"
            ]
          },
          "metadata": {},
          "execution_count": 9
        }
      ]
    },
    {
      "cell_type": "code",
      "source": [
        "model.fit(x=[train_input_ids, train_input_masks],\n",
        "          y=y_tr,\n",
        "          epochs=10,\n",
        "          validation_split=0.1,\n",
        "          batch_size=BATCH_SIZE)\n",
        "\n",
        "print(\"TEST split\", TEST_SIZE)\n",
        "results = model.evaluate(x=[test_input_ids, test_input_masks], y=y_te)\n",
        "print(results)\n",
        "result = model.predict(x=[test_input_ids, test_input_masks])\n",
        "result = np.array(result, dtype=np.float)\n",
        "result = result.flatten()\n",
        "print(\"pear\", stats.pearsonr(result, y_te))\n",
        "print(\"cosine\", 1 - distance.cosine(result, y_te))"
      ],
      "metadata": {
        "colab": {
          "base_uri": "https://localhost:8080/"
        },
        "id": "aDKWpVn7CelU",
        "outputId": "bd35fe8c-4ebc-43fc-dde2-8db82632636d"
      },
      "execution_count": 10,
      "outputs": [
        {
          "output_type": "stream",
          "name": "stderr",
          "text": [
            "\u001b[1;38;5;39mCOMET INFO:\u001b[0m Ignoring automatic log_parameter('verbose') because 'keras:verbose' is in COMET_LOGGING_PARAMETERS_IGNORE\n"
          ]
        },
        {
          "output_type": "stream",
          "name": "stdout",
          "text": [
            "Epoch 1/10\n",
            "137/137 [==============================] - 79s 411ms/step - loss: 3.9931 - accuracy: 0.0071 - root_mean_squared_error: 1.9983 - val_loss: 3.1254 - val_accuracy: 0.0041 - val_root_mean_squared_error: 1.7679\n",
            "Epoch 2/10\n",
            "137/137 [==============================] - 51s 376ms/step - loss: 2.5815 - accuracy: 0.0071 - root_mean_squared_error: 1.6067 - val_loss: 3.4392 - val_accuracy: 0.0041 - val_root_mean_squared_error: 1.8545\n",
            "Epoch 3/10\n",
            "137/137 [==============================] - 51s 375ms/step - loss: 2.1994 - accuracy: 0.0071 - root_mean_squared_error: 1.4830 - val_loss: 2.4508 - val_accuracy: 0.0041 - val_root_mean_squared_error: 1.5655\n",
            "Epoch 4/10\n",
            "137/137 [==============================] - 51s 375ms/step - loss: 1.8737 - accuracy: 0.0071 - root_mean_squared_error: 1.3688 - val_loss: 2.1506 - val_accuracy: 0.0041 - val_root_mean_squared_error: 1.4665\n",
            "Epoch 5/10\n",
            "137/137 [==============================] - 51s 376ms/step - loss: 1.7357 - accuracy: 0.0071 - root_mean_squared_error: 1.3175 - val_loss: 1.6643 - val_accuracy: 0.0041 - val_root_mean_squared_error: 1.2901\n",
            "Epoch 6/10\n",
            "137/137 [==============================] - 52s 376ms/step - loss: 1.6771 - accuracy: 0.0071 - root_mean_squared_error: 1.2950 - val_loss: 1.6113 - val_accuracy: 0.0041 - val_root_mean_squared_error: 1.2694\n",
            "Epoch 7/10\n",
            "137/137 [==============================] - 51s 369ms/step - loss: 1.5303 - accuracy: 0.0071 - root_mean_squared_error: 1.2371 - val_loss: 2.1288 - val_accuracy: 0.0041 - val_root_mean_squared_error: 1.4590\n",
            "Epoch 8/10\n",
            "137/137 [==============================] - 51s 376ms/step - loss: 1.4410 - accuracy: 0.0071 - root_mean_squared_error: 1.2004 - val_loss: 2.3442 - val_accuracy: 0.0041 - val_root_mean_squared_error: 1.5311\n",
            "Epoch 9/10\n",
            "137/137 [==============================] - 51s 371ms/step - loss: 1.3847 - accuracy: 0.0071 - root_mean_squared_error: 1.1767 - val_loss: 1.5429 - val_accuracy: 0.0041 - val_root_mean_squared_error: 1.2421\n",
            "Epoch 10/10\n",
            "137/137 [==============================] - 52s 379ms/step - loss: 1.3942 - accuracy: 0.0071 - root_mean_squared_error: 1.1808 - val_loss: 1.4643 - val_accuracy: 0.0041 - val_root_mean_squared_error: 1.2101\n",
            "TEST split 0.2\n",
            "38/38 [==============================] - 11s 284ms/step - loss: 1.3264 - accuracy: 0.0050 - root_mean_squared_error: 1.1517\n",
            "[1.3264235258102417, 0.004954583011567593, 1.1517046689987183]\n",
            "38/38 [==============================] - 15s 275ms/step\n",
            "pear PearsonRResult(statistic=0.8448602758113218, pvalue=0.0)\n",
            "cosine 0.9813105744251043\n"
          ]
        },
        {
          "output_type": "stream",
          "name": "stderr",
          "text": [
            "<ipython-input-10-6ddcb2ade1ec>:11: DeprecationWarning: `np.float` is a deprecated alias for the builtin `float`. To silence this warning, use `float` by itself. Doing this will not modify any behavior and is safe. If you specifically wanted the numpy scalar type, use `np.float64` here.\n",
            "Deprecated in NumPy 1.20; for more details and guidance: https://numpy.org/devdocs/release/1.20.0-notes.html#deprecations\n",
            "  result = np.array(result, dtype=np.float)\n"
          ]
        }
      ]
    },
    {
      "cell_type": "code",
      "source": [
        "experiment.end()"
      ],
      "metadata": {
        "colab": {
          "base_uri": "https://localhost:8080/"
        },
        "id": "ffVdyim1ChOT",
        "outputId": "83d948d5-28ea-4ed7-8b8f-ec1db5009c07"
      },
      "execution_count": 11,
      "outputs": [
        {
          "output_type": "stream",
          "name": "stderr",
          "text": [
            "\u001b[1;38;5;39mCOMET INFO:\u001b[0m ---------------------------------------------------------------------------------------\n",
            "\u001b[1;38;5;39mCOMET INFO:\u001b[0m Comet.ml Experiment Summary\n",
            "\u001b[1;38;5;39mCOMET INFO:\u001b[0m ---------------------------------------------------------------------------------------\n",
            "\u001b[1;38;5;39mCOMET INFO:\u001b[0m   Data:\n",
            "\u001b[1;38;5;39mCOMET INFO:\u001b[0m     display_summary_level : 1\n",
            "\u001b[1;38;5;39mCOMET INFO:\u001b[0m     url                   : https://www.comet.com/swaroop/ire-project/9e2a3f5bc85f4d728d71258df2c5d38c\n",
            "\u001b[1;38;5;39mCOMET INFO:\u001b[0m   Metrics [count] (min, max):\n",
            "\u001b[1;38;5;39mCOMET INFO:\u001b[0m     accuracy                                    : 0.007113354746252298\n",
            "\u001b[1;38;5;39mCOMET INFO:\u001b[0m     batch_accuracy [140]                        : (0.0, 0.014204545877873898)\n",
            "\u001b[1;38;5;39mCOMET INFO:\u001b[0m     batch_loss [140]                            : (0.8959447145462036, 38.09366226196289)\n",
            "\u001b[1;38;5;39mCOMET INFO:\u001b[0m     batch_root_mean_squared_error [140]         : (0.9465435743331909, 6.172006130218506)\n",
            "\u001b[1;38;5;39mCOMET INFO:\u001b[0m     epoch_duration [10]                         : (50.57714053499967, 79.4649717479997)\n",
            "\u001b[1;38;5;39mCOMET INFO:\u001b[0m     loss [10]                                   : (1.384714126586914, 3.993117094039917)\n",
            "\u001b[1;38;5;39mCOMET INFO:\u001b[0m     root_mean_squared_error [10]                : (1.1767387390136719, 1.9982784986495972)\n",
            "\u001b[1;38;5;39mCOMET INFO:\u001b[0m     val_accuracy                                : 0.004123711492866278\n",
            "\u001b[1;38;5;39mCOMET INFO:\u001b[0m     val_loss [10]                               : (1.4643425941467285, 3.4392051696777344)\n",
            "\u001b[1;38;5;39mCOMET INFO:\u001b[0m     val_root_mean_squared_error [10]            : (1.2101002931594849, 1.8545093536376953)\n",
            "\u001b[1;38;5;39mCOMET INFO:\u001b[0m     validate_batch_accuracy [20]                : (0.0, 0.0028409091755747795)\n",
            "\u001b[1;38;5;39mCOMET INFO:\u001b[0m     validate_batch_loss [20]                    : (1.3418920040130615, 3.2820470333099365)\n",
            "\u001b[1;38;5;39mCOMET INFO:\u001b[0m     validate_batch_root_mean_squared_error [20] : (1.1584006547927856, 1.811642050743103)\n",
            "\u001b[1;38;5;39mCOMET INFO:\u001b[0m   Others:\n",
            "\u001b[1;38;5;39mCOMET INFO:\u001b[0m     Name             : HIP_roberta_rcnn\n",
            "\u001b[1;38;5;39mCOMET INFO:\u001b[0m     trainable_params : 130163201\n",
            "\u001b[1;38;5;39mCOMET INFO:\u001b[0m   Parameters:\n",
            "\u001b[1;38;5;39mCOMET INFO:\u001b[0m     Adam_amsgrad                 : False\n",
            "\u001b[1;38;5;39mCOMET INFO:\u001b[0m     Adam_beta_1                  : 0.9\n",
            "\u001b[1;38;5;39mCOMET INFO:\u001b[0m     Adam_beta_2                  : 0.999\n",
            "\u001b[1;38;5;39mCOMET INFO:\u001b[0m     Adam_clipnorm                : 1\n",
            "\u001b[1;38;5;39mCOMET INFO:\u001b[0m     Adam_clipvalue               : 1\n",
            "\u001b[1;38;5;39mCOMET INFO:\u001b[0m     Adam_ema_momentum            : 0.99\n",
            "\u001b[1;38;5;39mCOMET INFO:\u001b[0m     Adam_ema_overwrite_frequency : 1\n",
            "\u001b[1;38;5;39mCOMET INFO:\u001b[0m     Adam_epsilon                 : 1e-07\n",
            "\u001b[1;38;5;39mCOMET INFO:\u001b[0m     Adam_global_clipnorm         : 1\n",
            "\u001b[1;38;5;39mCOMET INFO:\u001b[0m     Adam_is_legacy_optimizer     : False\n",
            "\u001b[1;38;5;39mCOMET INFO:\u001b[0m     Adam_jit_compile             : True\n",
            "\u001b[1;38;5;39mCOMET INFO:\u001b[0m     Adam_learning_rate           : 0.0010000000474974513\n",
            "\u001b[1;38;5;39mCOMET INFO:\u001b[0m     Adam_name                    : Adam\n",
            "\u001b[1;38;5;39mCOMET INFO:\u001b[0m     Adam_use_ema                 : False\n",
            "\u001b[1;38;5;39mCOMET INFO:\u001b[0m     Adam_weight_decay            : 1\n",
            "\u001b[1;38;5;39mCOMET INFO:\u001b[0m     epochs                       : 10\n",
            "\u001b[1;38;5;39mCOMET INFO:\u001b[0m     steps                        : 137\n",
            "\u001b[1;38;5;39mCOMET INFO:\u001b[0m   Uploads:\n",
            "\u001b[1;38;5;39mCOMET INFO:\u001b[0m     environment details : 1\n",
            "\u001b[1;38;5;39mCOMET INFO:\u001b[0m     filename            : 1\n",
            "\u001b[1;38;5;39mCOMET INFO:\u001b[0m     installed packages  : 1\n",
            "\u001b[1;38;5;39mCOMET INFO:\u001b[0m     model graph         : 1\n",
            "\u001b[1;38;5;39mCOMET INFO:\u001b[0m     notebook            : 2\n",
            "\u001b[1;38;5;39mCOMET INFO:\u001b[0m     os packages         : 1\n",
            "\u001b[1;38;5;39mCOMET INFO:\u001b[0m     source_code         : 1\n",
            "\u001b[1;38;5;39mCOMET INFO:\u001b[0m \n",
            "\u001b[1;38;5;39mCOMET INFO:\u001b[0m Please wait for metadata to finish uploading (timeout is 3600 seconds)\n"
          ]
        }
      ]
    },
    {
      "cell_type": "code",
      "source": [],
      "metadata": {
        "id": "e5JXZLdVKdfo"
      },
      "execution_count": null,
      "outputs": []
    }
  ]
}