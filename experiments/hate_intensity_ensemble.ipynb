{
  "nbformat": 4,
  "nbformat_minor": 0,
  "metadata": {
    "colab": {
      "provenance": []
    },
    "kernelspec": {
      "name": "python3",
      "display_name": "Python 3"
    },
    "language_info": {
      "name": "python"
    }
  },
  "cells": [
    {
      "cell_type": "code",
      "execution_count": 1,
      "metadata": {
        "id": "zriLT7qARY-_"
      },
      "outputs": [],
      "source": [
        "import pandas as pd"
      ]
    },
    {
      "cell_type": "code",
      "source": [
        "import pandas as pd\n",
        "import numpy as np\n",
        "from sklearn.metrics import mean_squared_error\n",
        "\n",
        "# Load model predictions and labels\n",
        "val_predictions_model1 = pd.read_csv('val_predictions_roberta.csv')['Prediction']\n",
        "val_predictions_model2 = pd.read_csv('val_predictions_bert.csv')['Prediction']\n",
        "val_predictions_model3 = pd.read_csv('val_predictions_xlnet.csv')['Prediction']\n",
        "val_labels = pd.read_csv('val_predictions_roberta.csv')['Label']\n",
        "\n",
        "test_predictions_model1 = pd.read_csv('test_predictions_roberta.csv')['Prediction']\n",
        "test_predictions_model2 = pd.read_csv('test_predictions_bert.csv')['Prediction']\n",
        "test_predictions_model3 = pd.read_csv('test_predictions_xlnet.csv')['Prediction']\n",
        "test_labels = pd.read_csv('test_predictions_roberta.csv')['Label']\n",
        "\n"
      ],
      "metadata": {
        "id": "zTINLA8wReYO"
      },
      "execution_count": 2,
      "outputs": []
    },
    {
      "cell_type": "code",
      "source": [
        "print(test_predictions_model1.shape)\n",
        "print(test_predictions_model2.shape)\n",
        "print(test_predictions_model3.shape)\n"
      ],
      "metadata": {
        "colab": {
          "base_uri": "https://localhost:8080/"
        },
        "id": "FeK1vHfqUWJi",
        "outputId": "3696a16f-4506-4eff-b33d-6e63f86ca947"
      },
      "execution_count": 3,
      "outputs": [
        {
          "output_type": "stream",
          "name": "stdout",
          "text": [
            "(909,)\n",
            "(909,)\n",
            "(909,)\n"
          ]
        }
      ]
    },
    {
      "cell_type": "code",
      "source": [
        "print(test_labels.shape)"
      ],
      "metadata": {
        "colab": {
          "base_uri": "https://localhost:8080/"
        },
        "id": "HlC0SKieUdSn",
        "outputId": "303287f3-b1f0-403d-f597-dd60d021afce"
      },
      "execution_count": null,
      "outputs": [
        {
          "output_type": "stream",
          "name": "stdout",
          "text": [
            "(909,)\n"
          ]
        }
      ]
    },
    {
      "cell_type": "code",
      "source": [
        "def weighted_average(predictions, weights):\n",
        "    weighted_preds = np.zeros(predictions[0].shape)\n",
        "    for pred, weight in zip(predictions, weights):\n",
        "        weighted_preds += pred * weight\n",
        "    return weighted_preds / np.sum(weights)\n"
      ],
      "metadata": {
        "id": "U1nDOao_UqKW"
      },
      "execution_count": null,
      "outputs": []
    },
    {
      "cell_type": "code",
      "source": [
        "\n",
        "\n",
        "# Function to evaluate the ensemble using RMSE (or choose your metric)\n",
        "def evaluate_ensemble(weights):\n",
        "    ensemble_val_predictions = weighted_average(\n",
        "        [val_predictions_model1, val_predictions_model2, val_predictions_model3], weights)\n",
        "    return np.sqrt(mean_squared_error(val_labels, ensemble_val_predictions))\n",
        "\n",
        "# Grid search to find the best weights\n",
        "best_rmse = float('inf')\n",
        "best_weights = None\n",
        "for w1 in np.arange(0, 1.1, 0.1):\n",
        "    for w2 in np.arange(0, 1.1 - w1, 0.1):\n",
        "        w3 = 1 - w1 - w2\n",
        "        rmse = evaluate_ensemble([w1, w2, w3])\n",
        "        if rmse < best_rmse:\n",
        "            best_rmse = rmse\n",
        "            best_weights = [w1, w2, w3]\n",
        "\n",
        "print(\"Best Weights:\", best_weights)\n",
        "print(\"Best RMSE on Validation Data:\", best_rmse)\n",
        "\n",
        "# Apply best weights to test data\n",
        "ensemble_test_predictions = weighted_average(\n",
        "    [test_predictions_model1, test_predictions_model2, test_predictions_model3], best_weights)\n",
        "\n",
        "# Evaluate ensemble on test data\n",
        "ensemble_test_rmse = np.sqrt(mean_squared_error(test_labels, ensemble_test_predictions))\n",
        "print(\"RMSE on Test Data:\", ensemble_test_rmse)\n"
      ],
      "metadata": {
        "colab": {
          "base_uri": "https://localhost:8080/"
        },
        "id": "S_HV79nUTrfL",
        "outputId": "97224c03-560e-4b31-e054-3f0536023df4"
      },
      "execution_count": null,
      "outputs": [
        {
          "output_type": "stream",
          "name": "stdout",
          "text": [
            "Best Weights: [1.0, 0.0, 0.0]\n",
            "Best RMSE on Validation Data: 1.1584588845600858\n",
            "RMSE on Test Data: 1.113076226091206\n"
          ]
        }
      ]
    },
    {
      "cell_type": "code",
      "source": [
        "from sklearn.linear_model import LinearRegression\n",
        "from sklearn.metrics import mean_squared_error"
      ],
      "metadata": {
        "id": "kw8w0E1NVb79"
      },
      "execution_count": 6,
      "outputs": []
    },
    {
      "cell_type": "code",
      "source": [
        "# Combine predictions\n",
        "X_train = pd.DataFrame({'Model1': val_predictions_model1, 'Model2': val_predictions_model2, 'Model3': val_predictions_model3})\n",
        "y_train =  pd.read_csv('val_predictions_roberta.csv')['Label']\n",
        "X_test = pd.DataFrame({'Model1': test_predictions_model1, 'Model2': test_predictions_model2, 'Model3': test_predictions_model3})\n",
        "y_test = pd.read_csv('test_predictions_roberta.csv')['Label']\n",
        "\n",
        "# Split data (optional)\n",
        "#X_train, X_val, y_train, y_val = train_test_split(combined_preds, labels, test_size=0.2, random_state=42)\n",
        "\n",
        "# Train meta-model\n",
        "meta_model = LinearRegression()\n",
        "meta_model.fit(X_train, y_train)\n",
        "\n",
        "# # Evaluate meta-model\n",
        "# predictions_val = meta_model.predict(X_val)\n",
        "# print(\"Validation MSE:\", mean_squared_error(y_val, predictions_val))\n",
        "\n",
        "# Apply meta-model to test data\n",
        "# Load test predictions in similar fashion\n",
        "# test_model1_preds = pd.read_csv('test_model1_predictions.csv')['Prediction']\n",
        "# test_model2_preds = pd.read_csv('test_model2_predictions.csv')['Prediction']\n",
        "# test_model3_preds = pd.read_csv('test_model3_predictions.csv')['Prediction']\n",
        "\n",
        "#test_combined_preds = pd.DataFrame({'Model1': test_model1_preds, 'Model2': test_model2_preds, 'Model3': test_model3_preds})\n",
        "final_predictions = meta_model.predict(X_test)\n"
      ],
      "metadata": {
        "id": "M-bM-fdjTzVa"
      },
      "execution_count": 7,
      "outputs": []
    },
    {
      "cell_type": "code",
      "source": [
        "ensemble_test_rmse = np.sqrt(mean_squared_error(y_test, final_predictions))\n",
        "print(\"RMSE on Test Data:\", ensemble_test_rmse)"
      ],
      "metadata": {
        "colab": {
          "base_uri": "https://localhost:8080/"
        },
        "id": "dji9Kt5QVxKL",
        "outputId": "20682ac2-5b3c-4224-e629-104ab1ddb282"
      },
      "execution_count": 8,
      "outputs": [
        {
          "output_type": "stream",
          "name": "stdout",
          "text": [
            "RMSE on Test Data: 1.0930427505033127\n"
          ]
        }
      ]
    },
    {
      "cell_type": "code",
      "source": [
        "from sklearn import metrics\n",
        "from scipy.spatial import distance\n",
        "from scipy import stats\n",
        "# Calculate Pearson correlation and cosine similarity\n",
        "pearson_corr = stats.pearsonr(final_predictions, y_test)[0]\n",
        "cosine_sim = 1 - distance.cosine(final_predictions, y_test)\n",
        "print(f\"Pearson Correlation: {pearson_corr}\")\n",
        "print(f\"Cosine Similarity: {cosine_sim}\")"
      ],
      "metadata": {
        "colab": {
          "base_uri": "https://localhost:8080/"
        },
        "id": "2qqa1r7yrMLG",
        "outputId": "2a25bbba-cb28-4c36-9ed6-ee9a9fcfe215"
      },
      "execution_count": 11,
      "outputs": [
        {
          "output_type": "stream",
          "name": "stdout",
          "text": [
            "Pearson Correlation: 0.8514515062935436\n",
            "Cosine Similarity: 0.9829382409265901\n"
          ]
        }
      ]
    },
    {
      "cell_type": "code",
      "source": [
        "pip install xgboost\n"
      ],
      "metadata": {
        "colab": {
          "base_uri": "https://localhost:8080/"
        },
        "id": "9YxTcT9KV8cP",
        "outputId": "da85963c-9fa5-471d-f864-3ea6dd2ff04b"
      },
      "execution_count": null,
      "outputs": [
        {
          "output_type": "stream",
          "name": "stdout",
          "text": [
            "Requirement already satisfied: xgboost in /usr/local/lib/python3.10/dist-packages (2.0.2)\n",
            "Requirement already satisfied: numpy in /usr/local/lib/python3.10/dist-packages (from xgboost) (1.23.5)\n",
            "Requirement already satisfied: scipy in /usr/local/lib/python3.10/dist-packages (from xgboost) (1.11.3)\n"
          ]
        }
      ]
    },
    {
      "cell_type": "code",
      "source": [
        "import xgboost as xgb\n",
        "meta_model_xgb = xgb.XGBRegressor()\n",
        "meta_model_xgb.fit(X_train, y_train)"
      ],
      "metadata": {
        "colab": {
          "base_uri": "https://localhost:8080/",
          "height": 248
        },
        "id": "nM4ft9Y8W1Wc",
        "outputId": "e041e6a3-57d2-4ef9-afa7-36465e51809b"
      },
      "execution_count": null,
      "outputs": [
        {
          "output_type": "execute_result",
          "data": {
            "text/plain": [
              "XGBRegressor(base_score=None, booster=None, callbacks=None,\n",
              "             colsample_bylevel=None, colsample_bynode=None,\n",
              "             colsample_bytree=None, device=None, early_stopping_rounds=None,\n",
              "             enable_categorical=False, eval_metric=None, feature_types=None,\n",
              "             gamma=None, grow_policy=None, importance_type=None,\n",
              "             interaction_constraints=None, learning_rate=None, max_bin=None,\n",
              "             max_cat_threshold=None, max_cat_to_onehot=None,\n",
              "             max_delta_step=None, max_depth=None, max_leaves=None,\n",
              "             min_child_weight=None, missing=nan, monotone_constraints=None,\n",
              "             multi_strategy=None, n_estimators=None, n_jobs=None,\n",
              "             num_parallel_tree=None, random_state=None, ...)"
            ],
            "text/html": [
              "<style>#sk-container-id-1 {color: black;background-color: white;}#sk-container-id-1 pre{padding: 0;}#sk-container-id-1 div.sk-toggleable {background-color: white;}#sk-container-id-1 label.sk-toggleable__label {cursor: pointer;display: block;width: 100%;margin-bottom: 0;padding: 0.3em;box-sizing: border-box;text-align: center;}#sk-container-id-1 label.sk-toggleable__label-arrow:before {content: \"▸\";float: left;margin-right: 0.25em;color: #696969;}#sk-container-id-1 label.sk-toggleable__label-arrow:hover:before {color: black;}#sk-container-id-1 div.sk-estimator:hover label.sk-toggleable__label-arrow:before {color: black;}#sk-container-id-1 div.sk-toggleable__content {max-height: 0;max-width: 0;overflow: hidden;text-align: left;background-color: #f0f8ff;}#sk-container-id-1 div.sk-toggleable__content pre {margin: 0.2em;color: black;border-radius: 0.25em;background-color: #f0f8ff;}#sk-container-id-1 input.sk-toggleable__control:checked~div.sk-toggleable__content {max-height: 200px;max-width: 100%;overflow: auto;}#sk-container-id-1 input.sk-toggleable__control:checked~label.sk-toggleable__label-arrow:before {content: \"▾\";}#sk-container-id-1 div.sk-estimator input.sk-toggleable__control:checked~label.sk-toggleable__label {background-color: #d4ebff;}#sk-container-id-1 div.sk-label input.sk-toggleable__control:checked~label.sk-toggleable__label {background-color: #d4ebff;}#sk-container-id-1 input.sk-hidden--visually {border: 0;clip: rect(1px 1px 1px 1px);clip: rect(1px, 1px, 1px, 1px);height: 1px;margin: -1px;overflow: hidden;padding: 0;position: absolute;width: 1px;}#sk-container-id-1 div.sk-estimator {font-family: monospace;background-color: #f0f8ff;border: 1px dotted black;border-radius: 0.25em;box-sizing: border-box;margin-bottom: 0.5em;}#sk-container-id-1 div.sk-estimator:hover {background-color: #d4ebff;}#sk-container-id-1 div.sk-parallel-item::after {content: \"\";width: 100%;border-bottom: 1px solid gray;flex-grow: 1;}#sk-container-id-1 div.sk-label:hover label.sk-toggleable__label {background-color: #d4ebff;}#sk-container-id-1 div.sk-serial::before {content: \"\";position: absolute;border-left: 1px solid gray;box-sizing: border-box;top: 0;bottom: 0;left: 50%;z-index: 0;}#sk-container-id-1 div.sk-serial {display: flex;flex-direction: column;align-items: center;background-color: white;padding-right: 0.2em;padding-left: 0.2em;position: relative;}#sk-container-id-1 div.sk-item {position: relative;z-index: 1;}#sk-container-id-1 div.sk-parallel {display: flex;align-items: stretch;justify-content: center;background-color: white;position: relative;}#sk-container-id-1 div.sk-item::before, #sk-container-id-1 div.sk-parallel-item::before {content: \"\";position: absolute;border-left: 1px solid gray;box-sizing: border-box;top: 0;bottom: 0;left: 50%;z-index: -1;}#sk-container-id-1 div.sk-parallel-item {display: flex;flex-direction: column;z-index: 1;position: relative;background-color: white;}#sk-container-id-1 div.sk-parallel-item:first-child::after {align-self: flex-end;width: 50%;}#sk-container-id-1 div.sk-parallel-item:last-child::after {align-self: flex-start;width: 50%;}#sk-container-id-1 div.sk-parallel-item:only-child::after {width: 0;}#sk-container-id-1 div.sk-dashed-wrapped {border: 1px dashed gray;margin: 0 0.4em 0.5em 0.4em;box-sizing: border-box;padding-bottom: 0.4em;background-color: white;}#sk-container-id-1 div.sk-label label {font-family: monospace;font-weight: bold;display: inline-block;line-height: 1.2em;}#sk-container-id-1 div.sk-label-container {text-align: center;}#sk-container-id-1 div.sk-container {/* jupyter's `normalize.less` sets `[hidden] { display: none; }` but bootstrap.min.css set `[hidden] { display: none !important; }` so we also need the `!important` here to be able to override the default hidden behavior on the sphinx rendered scikit-learn.org. See: https://github.com/scikit-learn/scikit-learn/issues/21755 */display: inline-block !important;position: relative;}#sk-container-id-1 div.sk-text-repr-fallback {display: none;}</style><div id=\"sk-container-id-1\" class=\"sk-top-container\"><div class=\"sk-text-repr-fallback\"><pre>XGBRegressor(base_score=None, booster=None, callbacks=None,\n",
              "             colsample_bylevel=None, colsample_bynode=None,\n",
              "             colsample_bytree=None, device=None, early_stopping_rounds=None,\n",
              "             enable_categorical=False, eval_metric=None, feature_types=None,\n",
              "             gamma=None, grow_policy=None, importance_type=None,\n",
              "             interaction_constraints=None, learning_rate=None, max_bin=None,\n",
              "             max_cat_threshold=None, max_cat_to_onehot=None,\n",
              "             max_delta_step=None, max_depth=None, max_leaves=None,\n",
              "             min_child_weight=None, missing=nan, monotone_constraints=None,\n",
              "             multi_strategy=None, n_estimators=None, n_jobs=None,\n",
              "             num_parallel_tree=None, random_state=None, ...)</pre><b>In a Jupyter environment, please rerun this cell to show the HTML representation or trust the notebook. <br />On GitHub, the HTML representation is unable to render, please try loading this page with nbviewer.org.</b></div><div class=\"sk-container\" hidden><div class=\"sk-item\"><div class=\"sk-estimator sk-toggleable\"><input class=\"sk-toggleable__control sk-hidden--visually\" id=\"sk-estimator-id-1\" type=\"checkbox\" checked><label for=\"sk-estimator-id-1\" class=\"sk-toggleable__label sk-toggleable__label-arrow\">XGBRegressor</label><div class=\"sk-toggleable__content\"><pre>XGBRegressor(base_score=None, booster=None, callbacks=None,\n",
              "             colsample_bylevel=None, colsample_bynode=None,\n",
              "             colsample_bytree=None, device=None, early_stopping_rounds=None,\n",
              "             enable_categorical=False, eval_metric=None, feature_types=None,\n",
              "             gamma=None, grow_policy=None, importance_type=None,\n",
              "             interaction_constraints=None, learning_rate=None, max_bin=None,\n",
              "             max_cat_threshold=None, max_cat_to_onehot=None,\n",
              "             max_delta_step=None, max_depth=None, max_leaves=None,\n",
              "             min_child_weight=None, missing=nan, monotone_constraints=None,\n",
              "             multi_strategy=None, n_estimators=None, n_jobs=None,\n",
              "             num_parallel_tree=None, random_state=None, ...)</pre></div></div></div></div></div>"
            ]
          },
          "metadata": {},
          "execution_count": 23
        }
      ]
    },
    {
      "cell_type": "code",
      "source": [
        "final_predictions_xgb = meta_model_xgb.predict(X_test)"
      ],
      "metadata": {
        "id": "Zjm8EOTlX97Y"
      },
      "execution_count": null,
      "outputs": []
    },
    {
      "cell_type": "code",
      "source": [
        "ensemble_test_rmse_xgb = np.sqrt(mean_squared_error(y_test, final_predictions_xgb))\n",
        "print(\"RMSE on Test Data:\", ensemble_test_rmse_xgb)"
      ],
      "metadata": {
        "colab": {
          "base_uri": "https://localhost:8080/"
        },
        "id": "H-YuZqe_YMAs",
        "outputId": "1484cc0f-faf5-419c-9bec-81529dbd5d19"
      },
      "execution_count": null,
      "outputs": [
        {
          "output_type": "stream",
          "name": "stdout",
          "text": [
            "RMSE on Test Data: 1.2628693903572086\n"
          ]
        }
      ]
    },
    {
      "cell_type": "code",
      "source": [
        "from sklearn.ensemble import RandomForestRegressor\n",
        "meta_model_rf = RandomForestRegressor()\n",
        "meta_model_rf.fit(X_train, y_train)"
      ],
      "metadata": {
        "colab": {
          "base_uri": "https://localhost:8080/",
          "height": 74
        },
        "id": "FiJin_8SYRbK",
        "outputId": "17536bfc-8991-4230-eee4-221ad2e564e0"
      },
      "execution_count": null,
      "outputs": [
        {
          "output_type": "execute_result",
          "data": {
            "text/plain": [
              "RandomForestRegressor()"
            ],
            "text/html": [
              "<style>#sk-container-id-2 {color: black;background-color: white;}#sk-container-id-2 pre{padding: 0;}#sk-container-id-2 div.sk-toggleable {background-color: white;}#sk-container-id-2 label.sk-toggleable__label {cursor: pointer;display: block;width: 100%;margin-bottom: 0;padding: 0.3em;box-sizing: border-box;text-align: center;}#sk-container-id-2 label.sk-toggleable__label-arrow:before {content: \"▸\";float: left;margin-right: 0.25em;color: #696969;}#sk-container-id-2 label.sk-toggleable__label-arrow:hover:before {color: black;}#sk-container-id-2 div.sk-estimator:hover label.sk-toggleable__label-arrow:before {color: black;}#sk-container-id-2 div.sk-toggleable__content {max-height: 0;max-width: 0;overflow: hidden;text-align: left;background-color: #f0f8ff;}#sk-container-id-2 div.sk-toggleable__content pre {margin: 0.2em;color: black;border-radius: 0.25em;background-color: #f0f8ff;}#sk-container-id-2 input.sk-toggleable__control:checked~div.sk-toggleable__content {max-height: 200px;max-width: 100%;overflow: auto;}#sk-container-id-2 input.sk-toggleable__control:checked~label.sk-toggleable__label-arrow:before {content: \"▾\";}#sk-container-id-2 div.sk-estimator input.sk-toggleable__control:checked~label.sk-toggleable__label {background-color: #d4ebff;}#sk-container-id-2 div.sk-label input.sk-toggleable__control:checked~label.sk-toggleable__label {background-color: #d4ebff;}#sk-container-id-2 input.sk-hidden--visually {border: 0;clip: rect(1px 1px 1px 1px);clip: rect(1px, 1px, 1px, 1px);height: 1px;margin: -1px;overflow: hidden;padding: 0;position: absolute;width: 1px;}#sk-container-id-2 div.sk-estimator {font-family: monospace;background-color: #f0f8ff;border: 1px dotted black;border-radius: 0.25em;box-sizing: border-box;margin-bottom: 0.5em;}#sk-container-id-2 div.sk-estimator:hover {background-color: #d4ebff;}#sk-container-id-2 div.sk-parallel-item::after {content: \"\";width: 100%;border-bottom: 1px solid gray;flex-grow: 1;}#sk-container-id-2 div.sk-label:hover label.sk-toggleable__label {background-color: #d4ebff;}#sk-container-id-2 div.sk-serial::before {content: \"\";position: absolute;border-left: 1px solid gray;box-sizing: border-box;top: 0;bottom: 0;left: 50%;z-index: 0;}#sk-container-id-2 div.sk-serial {display: flex;flex-direction: column;align-items: center;background-color: white;padding-right: 0.2em;padding-left: 0.2em;position: relative;}#sk-container-id-2 div.sk-item {position: relative;z-index: 1;}#sk-container-id-2 div.sk-parallel {display: flex;align-items: stretch;justify-content: center;background-color: white;position: relative;}#sk-container-id-2 div.sk-item::before, #sk-container-id-2 div.sk-parallel-item::before {content: \"\";position: absolute;border-left: 1px solid gray;box-sizing: border-box;top: 0;bottom: 0;left: 50%;z-index: -1;}#sk-container-id-2 div.sk-parallel-item {display: flex;flex-direction: column;z-index: 1;position: relative;background-color: white;}#sk-container-id-2 div.sk-parallel-item:first-child::after {align-self: flex-end;width: 50%;}#sk-container-id-2 div.sk-parallel-item:last-child::after {align-self: flex-start;width: 50%;}#sk-container-id-2 div.sk-parallel-item:only-child::after {width: 0;}#sk-container-id-2 div.sk-dashed-wrapped {border: 1px dashed gray;margin: 0 0.4em 0.5em 0.4em;box-sizing: border-box;padding-bottom: 0.4em;background-color: white;}#sk-container-id-2 div.sk-label label {font-family: monospace;font-weight: bold;display: inline-block;line-height: 1.2em;}#sk-container-id-2 div.sk-label-container {text-align: center;}#sk-container-id-2 div.sk-container {/* jupyter's `normalize.less` sets `[hidden] { display: none; }` but bootstrap.min.css set `[hidden] { display: none !important; }` so we also need the `!important` here to be able to override the default hidden behavior on the sphinx rendered scikit-learn.org. See: https://github.com/scikit-learn/scikit-learn/issues/21755 */display: inline-block !important;position: relative;}#sk-container-id-2 div.sk-text-repr-fallback {display: none;}</style><div id=\"sk-container-id-2\" class=\"sk-top-container\"><div class=\"sk-text-repr-fallback\"><pre>RandomForestRegressor()</pre><b>In a Jupyter environment, please rerun this cell to show the HTML representation or trust the notebook. <br />On GitHub, the HTML representation is unable to render, please try loading this page with nbviewer.org.</b></div><div class=\"sk-container\" hidden><div class=\"sk-item\"><div class=\"sk-estimator sk-toggleable\"><input class=\"sk-toggleable__control sk-hidden--visually\" id=\"sk-estimator-id-2\" type=\"checkbox\" checked><label for=\"sk-estimator-id-2\" class=\"sk-toggleable__label sk-toggleable__label-arrow\">RandomForestRegressor</label><div class=\"sk-toggleable__content\"><pre>RandomForestRegressor()</pre></div></div></div></div></div>"
            ]
          },
          "metadata": {},
          "execution_count": 26
        }
      ]
    },
    {
      "cell_type": "code",
      "source": [
        "final_predictions_rf = meta_model_rf.predict(X_test)"
      ],
      "metadata": {
        "id": "YesI9qCrYncZ"
      },
      "execution_count": null,
      "outputs": []
    },
    {
      "cell_type": "code",
      "source": [
        "ensemble_test_rmse_rf = np.sqrt(mean_squared_error(y_test, final_predictions_rf))\n",
        "print(\"RMSE on Test Data:\", ensemble_test_rmse_rf)"
      ],
      "metadata": {
        "colab": {
          "base_uri": "https://localhost:8080/"
        },
        "id": "6G1z0g4eYs0N",
        "outputId": "e66e2b45-ae0a-48a8-93fb-72f23df5be84"
      },
      "execution_count": null,
      "outputs": [
        {
          "output_type": "stream",
          "name": "stdout",
          "text": [
            "RMSE on Test Data: 1.1808208813344128\n"
          ]
        }
      ]
    },
    {
      "cell_type": "code",
      "source": [
        "pip install scikit-optimize\n"
      ],
      "metadata": {
        "colab": {
          "base_uri": "https://localhost:8080/"
        },
        "id": "47ubEnn7YysI",
        "outputId": "eaea6351-abae-4dfb-9097-b5f572473fce"
      },
      "execution_count": 5,
      "outputs": [
        {
          "output_type": "stream",
          "name": "stdout",
          "text": [
            "Collecting scikit-optimize\n",
            "  Downloading scikit_optimize-0.9.0-py2.py3-none-any.whl (100 kB)\n",
            "\u001b[?25l     \u001b[90m━━━━━━━━━━━━━━━━━━━━━━━━━━━━━━━━━━━━━━━━\u001b[0m \u001b[32m0.0/100.3 kB\u001b[0m \u001b[31m?\u001b[0m eta \u001b[36m-:--:--\u001b[0m\r\u001b[2K     \u001b[91m━━━━━━━━━━━━━━━━━━━━━━━━━━━━━━━━━━━━\u001b[0m\u001b[91m╸\u001b[0m\u001b[90m━━━\u001b[0m \u001b[32m92.2/100.3 kB\u001b[0m \u001b[31m2.7 MB/s\u001b[0m eta \u001b[36m0:00:01\u001b[0m\r\u001b[2K     \u001b[90m━━━━━━━━━━━━━━━━━━━━━━━━━━━━━━━━━━━━━━━━\u001b[0m \u001b[32m100.3/100.3 kB\u001b[0m \u001b[31m2.4 MB/s\u001b[0m eta \u001b[36m0:00:00\u001b[0m\n",
            "\u001b[?25hRequirement already satisfied: joblib>=0.11 in /usr/local/lib/python3.10/dist-packages (from scikit-optimize) (1.3.2)\n",
            "Collecting pyaml>=16.9 (from scikit-optimize)\n",
            "  Downloading pyaml-23.9.7-py3-none-any.whl (23 kB)\n",
            "Requirement already satisfied: numpy>=1.13.3 in /usr/local/lib/python3.10/dist-packages (from scikit-optimize) (1.23.5)\n",
            "Requirement already satisfied: scipy>=0.19.1 in /usr/local/lib/python3.10/dist-packages (from scikit-optimize) (1.11.3)\n",
            "Requirement already satisfied: scikit-learn>=0.20.0 in /usr/local/lib/python3.10/dist-packages (from scikit-optimize) (1.2.2)\n",
            "Requirement already satisfied: PyYAML in /usr/local/lib/python3.10/dist-packages (from pyaml>=16.9->scikit-optimize) (6.0.1)\n",
            "Requirement already satisfied: threadpoolctl>=2.0.0 in /usr/local/lib/python3.10/dist-packages (from scikit-learn>=0.20.0->scikit-optimize) (3.2.0)\n",
            "Installing collected packages: pyaml, scikit-optimize\n",
            "Successfully installed pyaml-23.9.7 scikit-optimize-0.9.0\n"
          ]
        }
      ]
    },
    {
      "cell_type": "code",
      "source": [
        "# Bayesian optimization"
      ],
      "metadata": {
        "id": "yCQDGlI9bMB2"
      },
      "execution_count": null,
      "outputs": []
    },
    {
      "cell_type": "code",
      "source": [
        "from skopt import BayesSearchCV\n",
        "from sklearn.ensemble import RandomForestRegressor\n",
        "from sklearn.model_selection import train_test_split\n",
        "from skopt.space import Real, Categorical, Integer\n",
        "\n",
        "# Define the search space for hyperparameters\n",
        "search_space = {\n",
        "    'n_estimators': Integer(100, 500),\n",
        "    'max_depth': Integer(3, 30),\n",
        "    'min_samples_split': Real(0.01, 0.1),\n",
        "    'min_samples_leaf': Integer(1, 4),\n",
        "    'max_features': Categorical(['sqrt', 'log2', None]),\n",
        "}\n",
        "\n",
        "# Initialize the Bayesian optimizer with the RandomForestRegressor and the search space\n",
        "bayes_search = BayesSearchCV(\n",
        "    estimator=RandomForestRegressor(random_state=42),\n",
        "    search_spaces=search_space,\n",
        "    n_iter=32,  # Number of iterations\n",
        "    scoring='neg_mean_squared_error',  # Or your desired scoring\n",
        "    cv=3,  # Cross-validation splitting strategy\n",
        "    n_jobs=-1,  # Number of jobs to run in parallel\n",
        "    refit=True,\n",
        "    random_state=42\n",
        ")\n",
        "\n",
        "# Assuming stacked_val_predictions and val_labels are your features and labels respectively\n",
        "bayes_search.fit(X_train, y_train)\n",
        "\n",
        "# Best parameters found for RandomForestRegressor\n",
        "print(\"Best parameters for RandomForest:\", bayes_search.best_params_)\n",
        "\n",
        "best_rmse = np.sqrt(-bayes_search.best_score_)\n",
        "print(\"Best RMSE on Validation Data:\", best_rmse)\n",
        "\n",
        "# For Linear Regression, it's uncommon to perform Bayesian optimization because it typically has fewer hyperparameters to tune.\n",
        "# However, if you want to optimize hyperparameters like 'fit_intercept' or 'normalize', you can define a search space for those.\n"
      ],
      "metadata": {
        "colab": {
          "base_uri": "https://localhost:8080/"
        },
        "id": "I4JVlBWpZBQm",
        "outputId": "38cf0ae5-c78e-4f0a-8219-32ee2d8396f2"
      },
      "execution_count": 12,
      "outputs": [
        {
          "output_type": "stream",
          "name": "stderr",
          "text": [
            "/usr/local/lib/python3.10/dist-packages/skopt/optimizer/optimizer.py:449: UserWarning: The objective has been evaluated at this point before.\n",
            "  warnings.warn(\"The objective has been evaluated \"\n",
            "/usr/local/lib/python3.10/dist-packages/skopt/optimizer/optimizer.py:449: UserWarning: The objective has been evaluated at this point before.\n",
            "  warnings.warn(\"The objective has been evaluated \"\n",
            "/usr/local/lib/python3.10/dist-packages/skopt/optimizer/optimizer.py:449: UserWarning: The objective has been evaluated at this point before.\n",
            "  warnings.warn(\"The objective has been evaluated \"\n",
            "/usr/local/lib/python3.10/dist-packages/skopt/optimizer/optimizer.py:449: UserWarning: The objective has been evaluated at this point before.\n",
            "  warnings.warn(\"The objective has been evaluated \"\n"
          ]
        },
        {
          "output_type": "stream",
          "name": "stdout",
          "text": [
            "Best parameters for RandomForest: OrderedDict([('max_depth', 3), ('max_features', None), ('min_samples_leaf', 4), ('min_samples_split', 0.0919122704037716), ('n_estimators', 500)])\n",
            "Best RMSE on Validation Data: 1.1755543885289377\n"
          ]
        }
      ]
    },
    {
      "cell_type": "code",
      "source": [
        "final_predictions_rf_cv = bayes_search.predict(X_test)"
      ],
      "metadata": {
        "id": "K3Q3MtUuaCsQ"
      },
      "execution_count": 13,
      "outputs": []
    },
    {
      "cell_type": "code",
      "source": [
        "ensemble_test_rmse_rf_cv = np.sqrt(mean_squared_error(y_test, final_predictions_rf_cv))\n",
        "print(\"RMSE on Test Data:\", ensemble_test_rmse_rf_cv)"
      ],
      "metadata": {
        "colab": {
          "base_uri": "https://localhost:8080/"
        },
        "id": "qBf0Ut-naz-8",
        "outputId": "24380e74-237d-425a-b73b-1091b0a0cc3f"
      },
      "execution_count": 14,
      "outputs": [
        {
          "output_type": "stream",
          "name": "stdout",
          "text": [
            "RMSE on Test Data: 1.0879793465143763\n"
          ]
        }
      ]
    },
    {
      "cell_type": "code",
      "source": [
        "# Calculate Pearson correlation and cosine similarity\n",
        "pearson_corr = stats.pearsonr(final_predictions_rf_cv, y_test)[0]\n",
        "cosine_sim = 1 - distance.cosine(final_predictions_rf_cv, y_test)\n",
        "print(f\"Pearson Correlation: {pearson_corr}\")\n",
        "print(f\"Cosine Similarity: {cosine_sim}\")"
      ],
      "metadata": {
        "id": "5jX7CTxKa5T6",
        "colab": {
          "base_uri": "https://localhost:8080/"
        },
        "outputId": "70774dd1-a177-4c5b-81d4-f9e634ca41c8"
      },
      "execution_count": 15,
      "outputs": [
        {
          "output_type": "stream",
          "name": "stdout",
          "text": [
            "Pearson Correlation: 0.853139583236503\n",
            "Cosine Similarity: 0.9831186668356847\n"
          ]
        }
      ]
    },
    {
      "cell_type": "code",
      "source": [],
      "metadata": {
        "id": "V565IbNEsAz9"
      },
      "execution_count": null,
      "outputs": []
    }
  ]
}