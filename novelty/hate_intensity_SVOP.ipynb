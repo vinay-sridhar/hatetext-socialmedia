{
 "cells": [
  {
   "cell_type": "code",
   "execution_count": 1,
   "metadata": {},
   "outputs": [],
   "source": [
    "import pandas as pd\n",
    "import numpy as np\n",
    "from sklearn.model_selection import train_test_split\n",
    "import random \n"
   ]
  },
  {
   "cell_type": "markdown",
   "metadata": {},
   "source": [
    "## Dataset"
   ]
  },
  {
   "cell_type": "code",
   "execution_count": 2,
   "metadata": {},
   "outputs": [
    {
     "name": "stdout",
     "output_type": "stream",
     "text": [
      "Sentences:  (6054,) \n",
      "hate_intensities:  (6054,) \n",
      "profanity:  (6054,) \n",
      "SVO:  (6054,) \n",
      "SVO[0]: (3, 31)  SVO[1]: (3, 17)\n"
     ]
    }
   ],
   "source": [
    "SVO_P_FILE = '/home/karet/Documents/IRE/Project/hatetext-socialmedia/novelty/data/hate_int_prof_SVO.tsv'\n",
    "SVO_P_data = pd.read_csv(SVO_P_FILE, sep='\\t')\n",
    "SVO_P_data[['Subject', 'Verb', 'Object']] = SVO_P_data[['Subject', 'Verb', 'Object']].map(lambda x: np.array(eval(x)))\n",
    "SVO_P_data['SVO'] = SVO_P_data.apply(lambda row: np.row_stack((row['Subject'], row['Verb'], row['Object'])), axis=1)\n",
    "\n",
    "sentences = SVO_P_data['Sentence'].to_numpy()\n",
    "hate_intensities = SVO_P_data['Intensity'].to_numpy()\n",
    "profanity = SVO_P_data['Profanity'].to_numpy()\n",
    "# SVO labelled after using roberta base tokenizer\n",
    "SVO = SVO_P_data['SVO'].to_numpy()\n",
    "\n",
    "print('Sentences: ', sentences.shape, '\\nhate_intensities: ', hate_intensities.shape, '\\nprofanity: ', profanity.shape, '\\nSVO: ', SVO.shape, '\\nSVO[0]:', SVO[0].shape, ' SVO[1]:', SVO[1].shape)"
   ]
  },
  {
   "cell_type": "code",
   "execution_count": 3,
   "metadata": {},
   "outputs": [],
   "source": [
    "inp = list(zip(sentences, SVO, profanity))\n",
    "\n",
    "X_tr, X_te, y_tr, y_te = train_test_split(inp, hate_intensities, \n",
    "                                            test_size=0.2, random_state=78)"
   ]
  },
  {
   "cell_type": "code",
   "execution_count": 4,
   "metadata": {},
   "outputs": [
    {
     "name": "stdout",
     "output_type": "stream",
     "text": [
      "('@user is a raging queer', array([[1, 0, 0, 0, 0],\n",
      "       [0, 0, 0, 1, 0],\n",
      "       [0, 0, 0, 0, 0]]), 1) 4.0\n"
     ]
    }
   ],
   "source": [
    "print(X_tr[0], y_tr[0])"
   ]
  }
 ],
 "metadata": {
  "kernelspec": {
   "display_name": ".venv",
   "language": "python",
   "name": "python3"
  },
  "language_info": {
   "codemirror_mode": {
    "name": "ipython",
    "version": 3
   },
   "file_extension": ".py",
   "mimetype": "text/x-python",
   "name": "python",
   "nbconvert_exporter": "python",
   "pygments_lexer": "ipython3",
   "version": "3.11.6"
  }
 },
 "nbformat": 4,
 "nbformat_minor": 2
}
