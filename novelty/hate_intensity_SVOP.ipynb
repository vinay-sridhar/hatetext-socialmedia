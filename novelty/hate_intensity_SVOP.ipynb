{
 "cells": [
  {
   "cell_type": "code",
   "execution_count": 50,
   "metadata": {},
   "outputs": [],
   "source": [
    "import pandas as pd\n",
    "import numpy as np\n",
    "from sklearn.model_selection import train_test_split\n",
    "import random \n"
   ]
  },
  {
   "cell_type": "markdown",
   "metadata": {},
   "source": [
    "## Dataset"
   ]
  },
  {
   "cell_type": "code",
   "execution_count": 51,
   "metadata": {},
   "outputs": [
    {
     "name": "stdout",
     "output_type": "stream",
     "text": [
      "Sentences:  (6054,) \n",
      "hate_intensities:  (6054,) \n",
      "profanity:  (6054,) \n",
      "SVO:  (6054,) \n",
      "SVO[0]: (3, 31)  SVO[1]: (3, 17)\n"
     ]
    }
   ],
   "source": [
    "SVO_P_FILE = '/home/karet/Documents/IRE/Project/hatetext-socialmedia/novelty/data/hate_int_prof_SVO.tsv'\n",
    "SVO_P_data = pd.read_csv(SVO_P_FILE, sep='\\t')\n",
    "SVO_P_data[['Subject', 'Verb', 'Object']] = SVO_P_data[['Subject', 'Verb', 'Object']].map(lambda x: np.array(eval(x)))\n",
    "SVO_P_data['SVO'] = SVO_P_data.apply(lambda row: np.row_stack((row['Subject'], row['Verb'], row['Object'])), axis=1)\n",
    "\n",
    "sentences = SVO_P_data['Sentence'].to_numpy()\n",
    "hate_intensities = SVO_P_data['Intensity'].to_numpy()\n",
    "profanity = SVO_P_data['Profanity'].to_numpy()\n",
    "# SVO labelled after using roberta base tokenizer\n",
    "SVO = SVO_P_data['SVO'].to_numpy()\n",
    "\n",
    "print('Sentences: ', sentences.shape, '\\nhate_intensities: ', hate_intensities.shape, '\\nprofanity: ', profanity.shape, '\\nSVO: ', SVO.shape, '\\nSVO[0]:', SVO[0].shape, ' SVO[1]:', SVO[1].shape)"
   ]
  },
  {
   "cell_type": "code",
   "execution_count": 52,
   "metadata": {},
   "outputs": [],
   "source": [
    "MAX_LENGTH = 128"
   ]
  },
  {
   "cell_type": "code",
   "execution_count": 53,
   "metadata": {},
   "outputs": [],
   "source": [
    "def padd_array_with_zeros(arr, desired_len):\n",
    "    # Prepend 0 to accomodate BERT [CLS] token \n",
    "    arr = np.insert(arr, 0, 0)\n",
    "    # Padding\n",
    "    current_len = len(arr)\n",
    "    if current_len < desired_len:\n",
    "        padded_arr = np.pad(arr, (0, desired_len - current_len), mode='constant')\n",
    "    else: \n",
    "        padded_arr = arr[:desired_len]\n",
    "    \n",
    "    return padded_arr"
   ]
  },
  {
   "cell_type": "code",
   "execution_count": 54,
   "metadata": {},
   "outputs": [],
   "source": [
    "inp = list(zip(sentences, SVO, profanity))\n",
    "\n",
    "X_tr, X_te, y_tr, y_te = train_test_split(inp, hate_intensities, \n",
    "                                            test_size=0.2, random_state=78)\n",
    "\n",
    "train_sentences = np.array([t[0] for t in X_tr])\n",
    "train_SVO = [t[1] for t in X_tr]\n",
    "train_profanity = np.array([t[2] for t in X_tr])\n",
    "\n",
    "test_sentences = np.array([t[0] for t in X_te])\n",
    "test_SVO = [t[1] for t in X_te]\n",
    "test_profanity = np.array([t[2] for t in X_te])\n",
    "\n",
    "## Padding zeros to SVO to make all of them same length \n",
    "train_SVO_padded = list()\n",
    "for sample in train_SVO:\n",
    "    train_SVO_padded.append([padd_array_with_zeros(arr, MAX_LENGTH) for arr in sample])\n",
    "train_SVO = np.array(train_SVO_padded)\n",
    "\n",
    "test_SVO_padded = list()\n",
    "for sample in test_SVO:\n",
    "    test_SVO_padded.append([padd_array_with_zeros(arr, MAX_LENGTH) for arr in sample])\n",
    "test_SVO = np.array(test_SVO_padded)\n"
   ]
  },
  {
   "cell_type": "code",
   "execution_count": 55,
   "metadata": {},
   "outputs": [
    {
     "name": "stdout",
     "output_type": "stream",
     "text": [
      "Sentences:  train (4843,) test (1211,)\n",
      "SVO:  train (4843, 3, 128) test (1211, 3, 128)\n",
      "Profanity:  train (4843,) test (1211,)\n"
     ]
    }
   ],
   "source": [
    "print('Sentences: ', 'train', train_sentences.shape, 'test', test_sentences.shape)\n",
    "print('SVO: ', 'train', train_SVO.shape, 'test', test_SVO.shape)\n",
    "print('Profanity: ', 'train', train_profanity.shape, 'test', test_profanity.shape)"
   ]
  }
 ],
 "metadata": {
  "kernelspec": {
   "display_name": ".venv",
   "language": "python",
   "name": "python3"
  },
  "language_info": {
   "codemirror_mode": {
    "name": "ipython",
    "version": 3
   },
   "file_extension": ".py",
   "mimetype": "text/x-python",
   "name": "python",
   "nbconvert_exporter": "python",
   "pygments_lexer": "ipython3",
   "version": "3.11.6"
  }
 },
 "nbformat": 4,
 "nbformat_minor": 2
}
